{
 "cells": [
  {
   "cell_type": "markdown",
   "metadata": {},
   "source": [
    "# Norm Distribution maps for different norms and different layers"
   ]
  },
  {
   "cell_type": "code",
   "execution_count": null,
   "metadata": {},
   "outputs": [],
   "source": [
    "from sdhelper import SD\n",
    "import numpy as np\n",
    "from tqdm.autonotebook import tqdm, trange\n",
    "from matplotlib import pyplot as plt\n",
    "import PIL.Image\n",
    "import PIL.ImageOps\n",
    "import torch\n",
    "from pathlib import Path\n",
    "import matplotlib.colors\n"
   ]
  },
  {
   "cell_type": "code",
   "execution_count": null,
   "metadata": {},
   "outputs": [],
   "source": [
    "sd = SD()"
   ]
  },
  {
   "cell_type": "code",
   "execution_count": null,
   "metadata": {},
   "outputs": [],
   "source": [
    "dataset_path = Path('../random_images_flux/')\n",
    "dataset = [PIL.Image.open(p) for p in dataset_path.glob('*.jpg')]\n",
    "len(dataset)"
   ]
  },
  {
   "cell_type": "code",
   "execution_count": null,
   "metadata": {},
   "outputs": [],
   "source": [
    "reprs = sd.img2repr(dataset, extract_positions=sd.available_extract_positions, step=50)"
   ]
  },
  {
   "cell_type": "code",
   "execution_count": null,
   "metadata": {},
   "outputs": [],
   "source": [
    "# plot norm map\n",
    "for norm_type in [1, 2, np.inf]:\n",
    "    norms = {p: torch.stack([torch.linalg.norm(r[p][0], ord=norm_type, dim=0) for r in reprs]).mean(dim=0) for p in sd.available_extract_positions}\n",
    "    plt.figure(figsize=(3*len(sd.available_extract_positions), 10))\n",
    "    for i, p in enumerate(sd.available_extract_positions):\n",
    "        plt.subplot(1, len(sd.available_extract_positions), i+1)\n",
    "        plt.title(p)\n",
    "        plt.imshow(norms[p], cmap='gray')\n",
    "        plt.axis('off')\n",
    "    plt.show()"
   ]
  },
  {
   "cell_type": "code",
   "execution_count": null,
   "metadata": {},
   "outputs": [],
   "source": [
    "# norm over position like in \"Vision Transformers Need Registers\", fig. 4a\n",
    "# TODO: could use gridspec to align the colorbars and twinx to have a native y-axis\n",
    "\n",
    "# config\n",
    "bins = 200\n",
    "\n",
    "# plot\n",
    "plt.figure(figsize=(3*5, 5))\n",
    "for i, (norm_type, norm_name, max_norm) in enumerate([(1, 'L1', 11), (2, 'L2', 8), (np.inf, 'L$\\infty$', 6)]):\n",
    "    norms = torch.stack([torch.histogram(torch.stack([torch.linalg.norm(r[p][0], ord=norm_type, dim=0) for r in reprs]).flatten().float().log(), bins=bins, range=(0, max_norm))[0].flip(0) / reprs[0][p].shape[2]**2 / len(reprs) for p in sd.available_extract_positions])\n",
    "    plt.subplot(1, 3, i+1)\n",
    "    plt.title(f'{norm_name} Norm Distribution over blocks')\n",
    "    plt.imshow(norms.T, cmap='YlOrRd', norm=matplotlib.colors.LogNorm(), aspect=len(sd.available_extract_positions)/bins, interpolation='nearest')\n",
    "    plt.colorbar(extend='min')\n",
    "    plt.xlabel('Position')\n",
    "    plt.ylabel(f'{norm_name} Norm')\n",
    "    plt.xticks(ticks=range(len(sd.available_extract_positions)), labels=sd.available_extract_positions, rotation=90, ha='center')\n",
    "    plt.yticks(ticks=range(bins-1,-1,-bins//10), labels=[f'{torch.exp(torch.linspace(0, max_norm, 10)).numpy()[i]:.2e}' for i in range(10)])\n",
    "\n",
    "plt.tight_layout()\n",
    "plt.show()"
   ]
  },
  {
   "cell_type": "code",
   "execution_count": null,
   "metadata": {},
   "outputs": [],
   "source": [
    "# simple histogram plot\n",
    "\n",
    "bins = 30\n",
    "\n",
    "fig, axes = plt.subplots(len(sd.available_extract_positions), 3, figsize=(3*5, len(sd.available_extract_positions)*5))\n",
    "norm_types = [(1, 'L1', 11), (2, 'L2', 8), (np.inf, 'L$\\infty$', 6)]\n",
    "\n",
    "for i, (norm_type, norm_name, max_norm) in enumerate(norm_types):\n",
    "    for j, p in enumerate(sd.available_extract_positions):\n",
    "        norms = torch.stack([torch.linalg.norm(r[p][0], ord=norm_type, dim=0).flatten() for r in reprs])\n",
    "        ax = axes[j, i]\n",
    "        \n",
    "        # Use torch.histogram instead of plt.hist\n",
    "        hist = torch.histogram(norms, bins=bins, range=(norms.min().item(), norms.max().item()))\n",
    "        ax.bar(hist.bin_edges[:-1], hist.hist, width=hist.bin_edges[1]-hist.bin_edges[0], edgecolor='black', align='edge')\n",
    "\n",
    "        ax.set_yscale('log')\n",
    "        # ax.set_xscale('log')\n",
    "\n",
    "        # Add row/column labels (extract positions / norm types)\n",
    "        if i == 0: ax.set_ylabel(f'{p}\\n(Norm Frequency)', fontsize=12)\n",
    "        if j == 0: ax.set_title(f'{norm_name} Norm', fontsize=12)\n",
    "\n",
    "plt.tight_layout()\n",
    "plt.show()\n"
   ]
  }
 ],
 "metadata": {
  "kernelspec": {
   "display_name": "py311",
   "language": "python",
   "name": "python3"
  },
  "language_info": {
   "codemirror_mode": {
    "name": "ipython",
    "version": 3
   },
   "file_extension": ".py",
   "mimetype": "text/x-python",
   "name": "python",
   "nbconvert_exporter": "python",
   "pygments_lexer": "ipython3",
   "version": "3.11.6"
  }
 },
 "nbformat": 4,
 "nbformat_minor": 2
}
