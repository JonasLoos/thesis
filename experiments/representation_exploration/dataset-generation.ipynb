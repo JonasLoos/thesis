{
 "cells": [
  {
   "cell_type": "code",
   "execution_count": null,
   "metadata": {},
   "outputs": [],
   "source": [
    "from sdhelper import SD\n",
    "import torch\n",
    "import numpy as np\n",
    "from pathlib import Path\n",
    "from tqdm.notebook import tqdm\n",
    "import pickle"
   ]
  },
  {
   "cell_type": "code",
   "execution_count": null,
   "metadata": {},
   "outputs": [],
   "source": [
    "sd = SD('SDXL-Turbo', disable_progress_bar=True)\n",
    "classes = Path('imagenet-labels.txt').read_text().strip().split('\\n')"
   ]
  },
  {
   "cell_type": "code",
   "execution_count": null,
   "metadata": {},
   "outputs": [],
   "source": [
    "base_dir = Path('dataset')\n",
    "base_dir.mkdir(exist_ok=True)\n",
    "for i, class_name in enumerate(tqdm(classes)):\n",
    "    output_path = base_dir / f'{i:3d}.pickle'\n",
    "    if output_path.exists():\n",
    "        continue\n",
    "    results = []\n",
    "    for i in range(5):\n",
    "        results.append(sd(class_name, extract_positions=sd.available_extract_positions).cpu())\n",
    "    pickle.dump(results, output_path.open('wb'))"
   ]
  }
 ],
 "metadata": {
  "kernelspec": {
   "display_name": "py311",
   "language": "python",
   "name": "python3"
  },
  "language_info": {
   "codemirror_mode": {
    "name": "ipython",
    "version": 3
   },
   "file_extension": ".py",
   "mimetype": "text/x-python",
   "name": "python",
   "nbconvert_exporter": "python",
   "pygments_lexer": "ipython3",
   "version": "3.11.6"
  }
 },
 "nbformat": 4,
 "nbformat_minor": 2
}
