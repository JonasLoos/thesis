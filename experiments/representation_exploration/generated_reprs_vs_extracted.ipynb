{
 "cells": [
  {
   "cell_type": "code",
   "execution_count": 1,
   "metadata": {},
   "outputs": [],
   "source": [
    "from sdhelper import SD\n",
    "from pathlib import Path\n",
    "from PIL import Image\n",
    "import torch\n",
    "import matplotlib.pyplot as plt\n",
    "from tqdm.autonotebook import tqdm, trange\n",
    "import numpy as np\n"
   ]
  },
  {
   "cell_type": "code",
   "execution_count": null,
   "metadata": {},
   "outputs": [],
   "source": [
    "sd = SD()"
   ]
  },
  {
   "cell_type": "code",
   "execution_count": null,
   "metadata": {},
   "outputs": [],
   "source": [
    "prompts = [\n",
    "    \"a photo of a cat\",\n",
    "    \"a photo of a dog\",\n",
    "    \"a photo of a bird\",\n",
    "    \"a paining of a house\",\n",
    "    \"a drawing of a frog\",\n",
    "    \"a beautiful landscape painting\",\n",
    "    \"a cyberpunk cityscape\",\n",
    "]\n",
    "\n",
    "imgs = []\n",
    "reprs_generated = []\n",
    "reprs_extracted = []\n",
    "\n",
    "for prompt in tqdm(prompts):\n",
    "    result = sd(prompt, extract_positions=sd.available_extract_positions)\n",
    "    imgs.append(result.result_image)\n",
    "    reprs_generated.append(result.representations)\n",
    "    reprs_extracted.append(sd.img2repr(result.result_image, extract_positions=sd.available_extract_positions, step=100))"
   ]
  },
  {
   "cell_type": "code",
   "execution_count": 4,
   "metadata": {},
   "outputs": [],
   "source": [
    "reprs_extracted2 = [sd.img2repr(img, extract_positions=sd.available_extract_positions, step=100) for img in imgs]"
   ]
  },
  {
   "cell_type": "code",
   "execution_count": null,
   "metadata": {},
   "outputs": [],
   "source": [
    "block = 'down_blocks[1]'\n",
    "\n",
    "fig, axs = plt.subplots(len(prompts), 5, figsize=(15, 3*len(prompts)))\n",
    "for i, (img, repr_generated, repr_extracted, repr_extracted2) in enumerate(zip(imgs, reprs_generated, reprs_extracted, reprs_extracted2)):\n",
    "\n",
    "    # image\n",
    "    axs[i, 0].imshow(img)\n",
    "    axs[i, 0].axis('off')\n",
    "    axs[i, 0].set_title(f\"{prompts[i]}\")\n",
    "\n",
    "    # heatmap of diffs between generated and extracted reprs\n",
    "    diffs = (repr_generated[block][:,0].cpu() - repr_extracted[block][0])\n",
    "    diff = diffs[-5].norm(dim=0).cpu().numpy()\n",
    "    axs[i, 1].imshow(diff)\n",
    "    axs[i, 1].axis('off')\n",
    "    axs[i, 1].set_title(f\"Diffs gen.-extr.\")\n",
    "    im = axs[i, 1].imshow(diff)\n",
    "    fig.colorbar(im, ax=axs[i, 1], orientation='vertical', fraction=0.046, pad=0.04)\n",
    "\n",
    "    # bar chart of mean diffs\n",
    "    axs[i, 2].bar(np.arange(len(diffs)), diffs.norm(dim=1).flatten(1).mean(dim=1).cpu().numpy())\n",
    "    axs[i, 2].set_title(f\"Diffs mean\")\n",
    "    axs[i, 2].set_xlabel(\"step\")\n",
    "    min_index = np.argmin(diffs.norm(dim=1).flatten(1).mean(dim=1).cpu().numpy())\n",
    "    axs[i, 2].bar(min_index, diffs.norm(dim=1).flatten(1).mean(dim=1).cpu().numpy()[min_index], color='red')\n",
    "\n",
    "    # heatmap of diffs between extracted reprs\n",
    "    diffs2 = (repr_extracted[block][0] - repr_extracted2[block][0])\n",
    "    diff2 = diffs2.norm(dim=0).cpu().numpy()\n",
    "    axs[i, 3].imshow(diff2)\n",
    "    axs[i, 3].axis('off')\n",
    "    axs[i, 3].set_title(f\"Diff extr.-extr.\")\n",
    "    im = axs[i, 3].imshow(diff2)\n",
    "    fig.colorbar(im, ax=axs[i, 3], orientation='vertical', fraction=0.046, pad=0.04)\n",
    "\n",
    "    # heatmap of diffs between extracted reprs of different images\n",
    "    diffs3 = (repr_extracted[block][0] - reprs_extracted[(i+1)%len(imgs)][block][0])\n",
    "    diff3 = diffs3.norm(dim=0).cpu().numpy()\n",
    "    axs[i, 4].imshow(diff3)\n",
    "    axs[i, 4].axis('off')\n",
    "    axs[i, 4].set_title(f\"Diff extr.-extr. (next)\")\n",
    "    im = axs[i, 4].imshow(diff3)\n",
    "    fig.colorbar(im, ax=axs[i, 4], orientation='vertical', fraction=0.046, pad=0.04)\n",
    "\n",
    "plt.tight_layout()\n",
    "plt.show()"
   ]
  },
  {
   "cell_type": "code",
   "execution_count": null,
   "metadata": {},
   "outputs": [],
   "source": [
    "# TODO: statistics and different layers\n",
    "# WIP\n",
    "\n",
    "fig, axs = plt.subplots(len(sd.available_extract_positions), 4, figsize=(12, 3*len(sd.available_extract_positions)))\n",
    "for i, block in enumerate(sd.available_extract_positions):\n",
    "    reprs_generated_block = torch.stack([r[block][:,0,:,:,:].cpu() for r in reprs_generated])\n",
    "    reprs_extracted_block = torch.stack([r[block][:,:,:,:] for r in reprs_extracted])\n",
    "    diffs = (reprs_generated_block - reprs_extracted_block).norm(dim=2).mean(dim=0)\n",
    "    \n",
    "    axs[i, 0].imshow(diffs[-5])\n",
    "    axs[i, 0].axis('off')\n",
    "    axs[i, 0].set_title(f\"Mean diff\")\n",
    "\n",
    "    axs[i, 1].bar(np.arange(len(diffs)), diffs.flatten(1).mean(dim=1))\n",
    "    axs[i, 1].set_title(f\"Mean diff\")\n",
    "    axs[i, 1].set_xlabel(\"step\")\n",
    "\n",
    "plt.tight_layout()\n",
    "plt.show()"
   ]
  },
  {
   "cell_type": "code",
   "execution_count": null,
   "metadata": {},
   "outputs": [],
   "source": [
    "result = sd('a cat', extract_positions=sd.available_extract_positions)\n",
    "reprs = result.representations\n",
    "\n",
    "fig, axs = plt.subplots(50, len(sd.available_extract_positions), figsize=(len(sd.available_extract_positions)*2, 50*2))\n",
    "for i, block in enumerate(sd.available_extract_positions):\n",
    "    for j in range(50):\n",
    "        axs[j, i].imshow(reprs[block][j][0].norm(dim=0).cpu().numpy())\n",
    "        axs[j, i].axis('off')\n",
    "    axs[0, i].set_title(block)\n",
    "\n",
    "plt.tight_layout()\n",
    "plt.show()"
   ]
  }
 ],
 "metadata": {
  "kernelspec": {
   "display_name": "py311",
   "language": "python",
   "name": "python3"
  },
  "language_info": {
   "codemirror_mode": {
    "name": "ipython",
    "version": 3
   },
   "file_extension": ".py",
   "mimetype": "text/x-python",
   "name": "python",
   "nbconvert_exporter": "python",
   "pygments_lexer": "ipython3",
   "version": "3.11.6"
  }
 },
 "nbformat": 4,
 "nbformat_minor": 2
}
