{
 "cells": [
  {
   "cell_type": "markdown",
   "metadata": {},
   "source": [
    "# Baseline performance of random/..."
   ]
  },
  {
   "cell_type": "code",
   "execution_count": 1,
   "metadata": {},
   "outputs": [],
   "source": [
    "import numpy as np\n",
    "import datasets\n",
    "from tqdm.autonotebook import tqdm, trange\n",
    "from matplotlib import pyplot as plt"
   ]
  },
  {
   "cell_type": "code",
   "execution_count": 18,
   "metadata": {},
   "outputs": [],
   "source": [
    "pairs = datasets.load_dataset('0jl/SPair-71k', 'pairs', split='test', trust_remote_code=True).to_list()"
   ]
  },
  {
   "cell_type": "code",
   "execution_count": null,
   "metadata": {},
   "outputs": [],
   "source": [
    "pairs[0]"
   ]
  },
  {
   "cell_type": "code",
   "execution_count": null,
   "metadata": {},
   "outputs": [],
   "source": [
    "bbox_sizes = np.linspace(0, 0.15, 16)\n",
    "correct_random = [[] for _ in range(len(bbox_sizes))]\n",
    "correct_same_pos = [[] for _ in range(len(bbox_sizes))]\n",
    "rng = np.random.default_rng(seed=42)\n",
    "for pair in tqdm(pairs):\n",
    "    trg_max_x, trg_max_y, _ = pair['trg_imsize']\n",
    "    tbb_max = max(pair['trg_bndbox'][2] - pair['trg_bndbox'][0], pair['trg_bndbox'][3] - pair['trg_bndbox'][1])\n",
    "    for (sx, sy), (tx, ty) in zip(pair['src_kps'], pair['trg_kps']):\n",
    "        px, py = rng.random((2,1000)) * [[trg_max_x], [trg_max_y]]\n",
    "        for i, bbox_size in enumerate(bbox_sizes):\n",
    "            correct_random[i].append((np.sqrt((px - tx)**2 + (py - ty)**2) < tbb_max * bbox_size).mean())\n",
    "            correct_same_pos[i].append(np.sqrt((sx - tx)**2 + (sy - ty)**2) < tbb_max * bbox_size)\n",
    "\n",
    "print(f'BBox fraction: {bbox_sizes}')\n",
    "print(f'Random: {np.mean(correct_random, axis=1)}')\n",
    "print(f'Same position: {np.mean(correct_same_pos, axis=1)}')\n"
   ]
  },
  {
   "cell_type": "code",
   "execution_count": null,
   "metadata": {},
   "outputs": [],
   "source": [
    "l1, = plt.plot(bbox_sizes, np.mean(correct_random, axis=1)*100)\n",
    "l2, = plt.plot(bbox_sizes, np.mean(correct_same_pos, axis=1)*100)\n",
    "plt.scatter(0.1, np.mean(correct_random[10])*100)\n",
    "plt.scatter(0.1, np.mean(correct_same_pos[10])*100)\n",
    "plt.text(0.105, np.mean(correct_random[10])*100, f'{np.mean(correct_random[10])*100:.2f}%', color=l1.get_color(), verticalalignment='top')\n",
    "plt.text(0.105, np.mean(correct_same_pos[10])*100, f'{np.mean(correct_same_pos[10])*100:.2f}%', color=l2.get_color(), verticalalignment='top')\n",
    "\n",
    "plt.xlim(0)\n",
    "plt.xlabel('$\\\\alpha_{bbox}$')\n",
    "plt.ylabel('PCK@$\\\\alpha_{bbox}$')\n",
    "plt.legend([l2, l1], ['Same position', 'Random'])\n",
    "plt.show()\n"
   ]
  }
 ],
 "metadata": {
  "kernelspec": {
   "display_name": "py311",
   "language": "python",
   "name": "python3"
  },
  "language_info": {
   "codemirror_mode": {
    "name": "ipython",
    "version": 3
   },
   "file_extension": ".py",
   "mimetype": "text/x-python",
   "name": "python",
   "nbconvert_exporter": "python",
   "pygments_lexer": "ipython3",
   "version": "3.11.6"
  }
 },
 "nbformat": 4,
 "nbformat_minor": 2
}
