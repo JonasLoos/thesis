{
 "cells": [
  {
   "cell_type": "markdown",
   "metadata": {},
   "source": [
    "# Semantic Correspondence"
   ]
  },
  {
   "cell_type": "code",
   "execution_count": null,
   "metadata": {},
   "outputs": [],
   "source": [
    "from sdhelper import SD\n",
    "import torch\n",
    "import numpy as np\n",
    "from tqdm.autonotebook import tqdm, trange\n",
    "from matplotlib import pyplot as plt\n",
    "import PIL.Image\n",
    "import random\n",
    "from PIL import Image, ImageDraw"
   ]
  },
  {
   "cell_type": "markdown",
   "metadata": {},
   "source": [
    "# Generate Images"
   ]
  },
  {
   "cell_type": "code",
   "execution_count": null,
   "metadata": {},
   "outputs": [],
   "source": [
    "def create_circular_cutout_with_gradient(image):\n",
    "    # Open the input image\n",
    "    width, height = image.size\n",
    "    radius = min(width, height) // 2\n",
    "    # Create a mask for the circular cutout\n",
    "    mask = Image.new(\"L\", (width, height), 0)\n",
    "    draw = ImageDraw.Draw(mask)\n",
    "    draw.ellipse((width//2 - radius, height//2 - radius, width//2 + radius, height//2 + radius), fill=255)\n",
    "\n",
    "    # Create a gradient for the internal transparency\n",
    "    gradient = Image.new(\"L\", (width, height), 0)\n",
    "    for y in range(height):\n",
    "        for x in range(width):\n",
    "            distance = ((x - width//2)**2 + (y - height//2)**2)**0.5\n",
    "            if distance < radius:\n",
    "                alpha = int(255 * radius/200 * (1-distance/radius))\n",
    "                if alpha < 0:\n",
    "                    alpha = 0\n",
    "                gradient.putpixel((x, y), alpha)\n",
    "\n",
    "    # Combine the mask and the gradient\n",
    "    combined_mask = Image.composite(mask, gradient, gradient)\n",
    "\n",
    "    # Apply the combined mask to the image\n",
    "    image.putalpha(combined_mask)\n",
    "\n",
    "    # Save the result\n",
    "    return image\n",
    "\n",
    "\n",
    "if False:\n",
    "    sd = SD('sdxl-lightning-4step')\n",
    "    cat_image = sd('a photo of a cat sitting on a mat').result_image\n",
    "    background = sd('a blurred photo of a room').result_image\n",
    "\n",
    "    # Example usage\n",
    "    cat_image_crop = create_circular_cutout_with_gradient(cat_image)\n",
    "    new_img = background.copy().convert(\"RGBA\")\n",
    "    new_img.paste(cat_image_crop.resize((512,512)), (0, 0), cat_image_crop.resize((512,512)))\n",
    "    # new_img.save('cat_on_bg.png')"
   ]
  },
  {
   "cell_type": "markdown",
   "metadata": {},
   "source": [
    "# Evaluate Images"
   ]
  },
  {
   "cell_type": "code",
   "execution_count": null,
   "metadata": {},
   "outputs": [],
   "source": [
    "sd = SD()"
   ]
  },
  {
   "cell_type": "code",
   "execution_count": null,
   "metadata": {},
   "outputs": [],
   "source": [
    "# load images\n",
    "# assuming size of images is 1024x1024\n",
    "foregrounds = [\n",
    "    PIL.Image.open(\"cat.png\"),\n",
    "    PIL.Image.open(\"cat2.png\"),\n",
    "]\n",
    "background = PIL.Image.open(\"cat_bg.png\")"
   ]
  },
  {
   "cell_type": "code",
   "execution_count": null,
   "metadata": {},
   "outputs": [],
   "source": [
    "keypoints = [{\n",
    "    'nose': (516, 430),\n",
    "    'mouth': (519, 480),\n",
    "    'left_eye': (445, 340),\n",
    "    'right_eye': (590, 340),\n",
    "    'left_ear': (335, 142),\n",
    "    'right_ear': (690, 130),\n",
    "    'left_front_paw': (470, 850),\n",
    "    'right_front_paw': (630, 850),\n",
    "},{\n",
    "    'nose': (532, 342),\n",
    "    'mouth': (528, 395),\n",
    "    'left_eye': (475, 285),\n",
    "    'right_eye': (591, 292),\n",
    "    'left_ear': (410, 130),\n",
    "    'right_ear': (680, 150),\n",
    "    'left_front_paw': (410, 635),\n",
    "    'right_front_paw': (550, 770),\n",
    "}]\n",
    "plt.figure(figsize=(5*len(foregrounds), 5))\n",
    "for i, (foreground, kps) in enumerate(zip(foregrounds, keypoints), 1):\n",
    "    plt.subplot(1, len(foregrounds), i)\n",
    "    plt.imshow(foreground)\n",
    "    for name, (x, y) in kps.items():\n",
    "        plt.scatter(x, y, label=name)\n",
    "# plt.legend()\n",
    "plt.show()"
   ]
  },
  {
   "cell_type": "code",
   "execution_count": null,
   "metadata": {},
   "outputs": [],
   "source": [
    "# define image/kp transformation functions\n",
    "\n",
    "def place_fg_on_bg(fg: PIL.Image.Image, bg: PIL.Image.Image, x: int, y: int, rotation: float, scale: float) -> PIL.Image.Image:\n",
    "    result = bg.copy()\n",
    "    fg = fg.rotate(rotation, expand=True)\n",
    "    fg = fg.resize((int(fg.width * scale), int(fg.height * scale)))\n",
    "    result.paste(fg, (x - fg.width // 2, y - fg.height // 2), fg)\n",
    "    return result\n",
    "\n",
    "def transform_keypoints(keypoints: dict[str, tuple[int, int]], x: int, y: int, rotation: float, scale: float) -> dict[str, tuple[int, int]]:\n",
    "    result = {}\n",
    "    rotation = -np.deg2rad(rotation)\n",
    "    for name, (kx, ky) in keypoints.items():\n",
    "        kx, ky = kx - 512, ky - 512\n",
    "        kx, ky = kx * np.cos(rotation) - ky * np.sin(rotation), kx * np.sin(rotation) + ky * np.cos(rotation)\n",
    "        kx *= scale\n",
    "        ky *= scale\n",
    "        kx += x\n",
    "        ky += y\n",
    "        result[name] = (kx, ky)\n",
    "    return result\n",
    "\n",
    "i = 0\n",
    "test_img = place_fg_on_bg(foregrounds[i], background, 432, 600, 420, 0.7)\n",
    "test_kp = transform_keypoints(keypoints[i], 432, 600, 420, 0.7)\n",
    "\n",
    "plt.imshow(test_img)\n",
    "for name, (x, y) in test_kp.items():\n",
    "    plt.scatter(x, y, label=name)\n",
    "# plt.legend()\n",
    "plt.show()"
   ]
  },
  {
   "cell_type": "code",
   "execution_count": null,
   "metadata": {},
   "outputs": [],
   "source": [
    "# semantic correspondence\n",
    "\n",
    "def sc(x_a: int, y_a: int, rot_a: float, scale_a: float, x_b: int, y_b: int, rot_b: float, scale_b: float, plot=False):\n",
    "    img_size = 512\n",
    "    args_a = (x_a, y_a, rot_a, scale_a)\n",
    "    args_b = (x_b, y_b, rot_b, scale_b)\n",
    "    img_a = place_fg_on_bg(foregrounds[0], background, *args_a)\n",
    "    img_b = place_fg_on_bg(foregrounds[1], background, *args_b)\n",
    "    repr_a = sd.img2repr(img_a.resize((img_size,img_size)), ['up_blocks[1]'], step=100).concat()\n",
    "    repr_b = sd.img2repr(img_b.resize((img_size,img_size)), ['up_blocks[1]'], step=100).concat()\n",
    "    repr_size = repr_a.shape[1]\n",
    "    kp_a = transform_keypoints(keypoints[0], *args_a)\n",
    "    kp_b = transform_keypoints(keypoints[1], *args_b)\n",
    "    kp_pred = {}\n",
    "    for name, (x, y) in kp_a.items():\n",
    "        tmp_a = repr_a[:, int(y*repr_size//1024), int(x*repr_size//1024), None, None]\n",
    "        similarities = torch.cosine_similarity(tmp_a, repr_b, dim=0)\n",
    "        argmax = torch.argmax(similarities)\n",
    "        pred_x = (argmax % repr_size + 0.5) / repr_size * 1024\n",
    "        pred_y = (argmax // repr_size + 0.5) / repr_size * 1024\n",
    "        kp_pred[name] = (pred_x, pred_y)\n",
    "\n",
    "    differences = (np.array(list(kp_pred.values())) - np.array(list(kp_b.values()))) / 1024\n",
    "    errors = np.linalg.norm(differences, axis=1)\n",
    "\n",
    "    if plot:\n",
    "        print(f\"Max    relative error: {np.max(errors):6.2%} of img, or {np.max(errors)/scale_b:6.2%} of trg obj\")\n",
    "        print(f\"Mean   relative error: {np.mean(errors):6.2%} of img, or {np.mean(errors)/scale_b:6.2%} of trg obj\")\n",
    "        print(f\"Median relative error: {np.median(errors):6.2%} of img, or {np.median(errors)/scale_b:6.2%} of trg obj\")\n",
    "        print(f'Min    relative error: {np.min(errors):6.2%} of img, or {np.min(errors)/scale_b:6.2%} of trg obj')\n",
    "\n",
    "        plt.figure(figsize=(9, 3))\n",
    "        plt.subplot(1, 2, 1)\n",
    "        plt.imshow(img_a)\n",
    "        for name, (x, y) in kp_a.items():\n",
    "            plt.scatter(x, y, label=name)\n",
    "        plt.axis('off')\n",
    "        plt.subplot(1, 2, 2)\n",
    "        plt.imshow(img_b)\n",
    "        for name, (x, y) in kp_pred.items():\n",
    "            plt.scatter(x, y, label=name)\n",
    "        plt.axis('off')\n",
    "        plt.show()\n",
    "\n",
    "    return kp_pred, errors\n",
    "\n",
    "sc(432, 600, 0, 0.8, 432, 600, 0, 0.8, plot=True);\n",
    "sc(500, 500, -20, 0.7, 400, 555, 100, 0.6, plot=True);"
   ]
  },
  {
   "cell_type": "markdown",
   "metadata": {},
   "source": [
    "# SC over positions"
   ]
  },
  {
   "cell_type": "code",
   "execution_count": null,
   "metadata": {},
   "outputs": [],
   "source": [
    "scale = 0.25\n",
    "n = 16 - 4  # number of representations minus start+end\n",
    "samples = 4\n",
    "\n",
    "start = scale * 512\n",
    "end = 1024 - scale * 512\n",
    "matrix_max = np.zeros((n, n))\n",
    "matrix_median = np.zeros((n, n))\n",
    "matrix_mean = np.zeros((n, n))\n",
    "matrix_min = np.zeros((n, n))\n",
    "tq = tqdm(total=n*n)\n",
    "for i, x in enumerate(np.linspace(start, end, n)):\n",
    "    for j, y in enumerate(np.linspace(start, end, n)):\n",
    "        tq.update(1)\n",
    "        for _ in range(samples):\n",
    "            kp_pred, errors = sc(int(x), int(y), 0, scale, 512, 512, 0, scale)\n",
    "            matrix_max[i, j] += np.max(errors) / samples\n",
    "            matrix_median[i, j] += np.median(errors) / samples\n",
    "            matrix_mean[i, j] += np.mean(errors) / samples\n",
    "            matrix_min[i, j] += np.min(errors) / samples\n",
    "\n",
    "for name, matrix in zip(['max', 'median', 'mean', 'min'], [matrix_max, matrix_median, matrix_mean, matrix_min]):\n",
    "    plt.imshow(matrix, interpolation='nearest', vmin=0)\n",
    "    plt.colorbar()\n",
    "    plt.title(f'{name} relative error')\n",
    "    plt.show()"
   ]
  },
  {
   "cell_type": "code",
   "execution_count": null,
   "metadata": {},
   "outputs": [],
   "source": [
    "# plot failure cases\n",
    "failure_positions = {np.unravel_index(x.argmax(), x.shape) for x in [matrix_max, matrix_median, matrix_mean, matrix_min]}\n",
    "for x, y in failure_positions:\n",
    "    sc(int(np.linspace(start, end, n)[x]), int(np.linspace(start, end, n)[y]), 0, scale, 512, 512, 0, scale, plot=True)"
   ]
  },
  {
   "cell_type": "markdown",
   "metadata": {},
   "source": [
    "# Statistics for sc with random transformations"
   ]
  },
  {
   "cell_type": "code",
   "execution_count": null,
   "metadata": {},
   "outputs": [],
   "source": [
    "# calculate sc errors for random transformations\n",
    "results = []\n",
    "for i in trange(500):\n",
    "    scale_a = 0.5 #random.uniform(0.1, 1)\n",
    "    x_a = random.randint(int(scale_a*512), 1024-int(scale_a*512))\n",
    "    y_a = random.randint(int(scale_a*512), 1024-int(scale_a*512))\n",
    "    rot_a = random.uniform(-180, 180)\n",
    "    scale_b = 0.5 #random.uniform(0.1, 1)\n",
    "    x_b = random.randint(int(scale_b*512), 1024-int(scale_b*512))\n",
    "    y_b = random.randint(int(scale_b*512), 1024-int(scale_b*512))\n",
    "    rot_b = random.uniform(-180, 180)\n",
    "    args = (x_a, y_a, rot_a, scale_a, x_b, y_b, rot_b, scale_b)\n",
    "    results.append((args, *sc(*args)))\n"
   ]
  },
  {
   "cell_type": "code",
   "execution_count": null,
   "metadata": {},
   "outputs": [],
   "source": [
    "# calculate extra attributes\n",
    "for i, ((x_a, y_a, rot_a, scale_a, x_b, y_b, rot_b, scale_b, *_), kp_pred, errors) in enumerate(results):\n",
    "    position_difference = np.linalg.norm(np.array([x_a, y_a]) - np.array([x_b, y_b]))\n",
    "    rotation_difference = abs(rot_a - rot_b) % 360\n",
    "    if rotation_difference > 180:\n",
    "        rotation_difference = 360 - rotation_difference\n",
    "    fg_scale_factor = np.log2(scale_b / scale_a)\n",
    "    results[i] = ((x_a, y_a, rot_a, scale_a, x_b, y_b, rot_b, scale_b, position_difference, rotation_difference, fg_scale_factor), kp_pred, errors)"
   ]
  },
  {
   "cell_type": "code",
   "execution_count": null,
   "metadata": {},
   "outputs": [],
   "source": [
    "# plot calculated errors\n",
    "for i, name in enumerate(\n",
    "    [f'{a} {b}' for a in ['source','target'] for b in ['x position [center,px]', 'y position [center,px]', 'rotation [°]', 'foreground object scale']]\n",
    "    + ['position difference [px]', 'rotation difference [°]', 'foreground scale factor [log2]']\n",
    "):\n",
    "    # skip if all values are the same\n",
    "    if len(set([a[i] for a, _, _ in results])) == 1:\n",
    "        continue\n",
    "    # create bins\n",
    "    bins = [[] for _ in range(10)]\n",
    "    min = np.min([a[i] for a, _, _ in results])\n",
    "    max = np.max([a[i] for a, _, _ in results])\n",
    "    for args, _, err in results:\n",
    "        bins[int((args[i] - min) / (max - min + 1e-6) * 10)].append(err)\n",
    "    # plot\n",
    "    plt.bar(range(10), [np.max(b, axis=1).mean() for b in bins])#, yerr=[np.std(b) for b in bins])\n",
    "    plt.bar(range(10), [np.mean(b) for b in bins])\n",
    "    plt.bar(range(10), [np.min(b, axis=1).mean() for b in bins])\n",
    "    for i, b in enumerate(bins):\n",
    "        plt.text(i, 0, f'{len(b)}', ha='center', va='bottom', color='white')\n",
    "    plt.xlabel(name)\n",
    "    plt.ylabel('Mean error distance [fraction of img size]')\n",
    "    plt.xticks(range(10), [f'{min + i*(max-min)/10:.{2 if \"scale\" in name else 0}f}' for i in range(10)], rotation=45)\n",
    "    plt.legend(['Max KP', 'Mean KP', 'Min KP'])\n",
    "    plt.title(f'Error over {name.split(\"[\")[0].strip()}')\n",
    "    plt.show()"
   ]
  },
  {
   "cell_type": "code",
   "execution_count": null,
   "metadata": {},
   "outputs": [],
   "source": []
  }
 ],
 "metadata": {
  "kernelspec": {
   "display_name": "py311",
   "language": "python",
   "name": "python3"
  },
  "language_info": {
   "codemirror_mode": {
    "name": "ipython",
    "version": 3
   },
   "file_extension": ".py",
   "mimetype": "text/x-python",
   "name": "python",
   "nbconvert_exporter": "python",
   "pygments_lexer": "ipython3",
   "version": "3.11.6"
  }
 },
 "nbformat": 4,
 "nbformat_minor": 2
}
