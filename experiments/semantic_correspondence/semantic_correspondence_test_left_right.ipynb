{
 "cells": [
  {
   "cell_type": "code",
   "execution_count": null,
   "metadata": {},
   "outputs": [],
   "source": [
    "from sdhelper import SD\n",
    "import torch\n",
    "import numpy as np\n",
    "from matplotlib import pyplot as plt\n",
    "import PIL.Image"
   ]
  },
  {
   "cell_type": "code",
   "execution_count": null,
   "metadata": {},
   "outputs": [],
   "source": [
    "sdxlt = SD('SDXL-Turbo')\n",
    "sd = SD('SD1.5')"
   ]
  },
  {
   "cell_type": "markdown",
   "metadata": {},
   "source": [
    "## Man"
   ]
  },
  {
   "cell_type": "code",
   "execution_count": null,
   "metadata": {},
   "outputs": [],
   "source": [
    "img_front = sdxlt('a photo of a normal man in the city from the front, full body', seed=42).result_image\n",
    "img_back = sdxlt('a photo of a normal man in the city from the back, full body', seed=42).result_image"
   ]
  },
  {
   "cell_type": "code",
   "execution_count": null,
   "metadata": {},
   "outputs": [],
   "source": [
    "keypoints = {\n",
    "    'right hand': (225,280),\n",
    "    'left hand': (350,280),\n",
    "    'right foot': (245,470),\n",
    "    'left foot': (325,470),\n",
    "}\n",
    "\n",
    "plt.figure(figsize=(10, 5))\n",
    "plt.subplot(1, 2, 1)\n",
    "plt.imshow(img_front)\n",
    "plt.title('Front')\n",
    "plt.scatter(*zip(*keypoints.values()), c=range(len(keypoints)))\n",
    "plt.subplot(1, 2, 2)\n",
    "plt.imshow(img_back)\n",
    "plt.title('Back')\n",
    "plt.show()"
   ]
  },
  {
   "cell_type": "code",
   "execution_count": null,
   "metadata": {},
   "outputs": [],
   "source": [
    "pos = ['up_blocks[1]']\n",
    "step = 100\n",
    "r1 = sd.img2repr(img_front, pos, step=step)\n",
    "r2 = sd.img2repr(img_back, pos, step=step)\n",
    "cossim = r1.cosine_similarity(r2)"
   ]
  },
  {
   "cell_type": "code",
   "execution_count": null,
   "metadata": {},
   "outputs": [],
   "source": [
    "for kp_name, (kp_x,kp_y) in keypoints.items():\n",
    "    kp_x_repr = kp_x * cossim.shape[1] // img_front.size[0]\n",
    "    kp_y_repr = kp_y * cossim.shape[0] // img_front.size[1]\n",
    "    plt.figure(figsize=(10, 5))\n",
    "    plt.subplot(1, 3, 1)\n",
    "    plt.imshow(img_front)\n",
    "    plt.title('Front')\n",
    "    plt.scatter([kp_x], [kp_y], c='r')\n",
    "    plt.axis('off')\n",
    "    plt.subplot(1, 3, 2)\n",
    "    plt.imshow(img_back)\n",
    "    cossim_img = PIL.Image.fromarray((cossim[kp_y_repr, kp_x_repr].numpy()*128+128).astype(np.uint8), 'L').resize(img_back.size)\n",
    "    plt.imshow(cossim_img, alpha=0.8, cmap='viridis')\n",
    "    plt.axis('off')\n",
    "    plt.title('Back')\n",
    "    plt.show()"
   ]
  },
  {
   "cell_type": "markdown",
   "metadata": {},
   "source": [
    "## Cat"
   ]
  },
  {
   "cell_type": "code",
   "execution_count": null,
   "metadata": {},
   "outputs": [],
   "source": [
    "img_front = sdxlt('a photo of a cat from the front', seed=2).result_image\n",
    "img_back = sdxlt('a photo of a cat from the back', seed=2).result_image"
   ]
  },
  {
   "cell_type": "code",
   "execution_count": null,
   "metadata": {},
   "outputs": [],
   "source": [
    "keypoints = {\n",
    "    'right ear': (100,50),\n",
    "    'left ear': (450,50),\n",
    "}\n",
    "\n",
    "plt.figure(figsize=(10, 5))\n",
    "plt.subplot(1, 2, 1)\n",
    "plt.imshow(img_front)\n",
    "plt.title('Front')\n",
    "plt.scatter(*zip(*keypoints.values()), c=range(len(keypoints)))\n",
    "plt.subplot(1, 2, 2)\n",
    "plt.imshow(img_back)\n",
    "plt.title('Back')\n",
    "plt.show()"
   ]
  },
  {
   "cell_type": "code",
   "execution_count": null,
   "metadata": {},
   "outputs": [],
   "source": [
    "pos = ['up_blocks[1]']\n",
    "step = 100\n",
    "r1 = sd.img2repr(img_front, pos, step=step)\n",
    "r2 = sd.img2repr(img_back, pos, step=step)\n",
    "cossim = r1.cosine_similarity(r2)"
   ]
  },
  {
   "cell_type": "code",
   "execution_count": null,
   "metadata": {},
   "outputs": [],
   "source": [
    "for kp_name, (kp_x,kp_y) in keypoints.items():\n",
    "    kp_x_repr = kp_x * cossim.shape[1] // img_front.size[0]\n",
    "    kp_y_repr = kp_y * cossim.shape[0] // img_front.size[1]\n",
    "    plt.figure(figsize=(10, 5))\n",
    "    plt.subplot(1, 3, 1)\n",
    "    plt.imshow(img_front)\n",
    "    plt.title('Front')\n",
    "    plt.scatter([kp_x], [kp_y], c='r')\n",
    "    plt.axis('off')\n",
    "    plt.subplot(1, 3, 2)\n",
    "    plt.imshow(img_back)\n",
    "    cossim_img = PIL.Image.fromarray((cossim[kp_y_repr, kp_x_repr].numpy()*128+128).astype(np.uint8), 'L').resize(img_back.size)\n",
    "    plt.imshow(cossim_img, alpha=0.8, cmap='viridis')\n",
    "    plt.axis('off')\n",
    "    plt.title('Back')\n",
    "    plt.show()"
   ]
  }
 ],
 "metadata": {
  "kernelspec": {
   "display_name": "py311",
   "language": "python",
   "name": "python3"
  },
  "language_info": {
   "codemirror_mode": {
    "name": "ipython",
    "version": 3
   },
   "file_extension": ".py",
   "mimetype": "text/x-python",
   "name": "python",
   "nbconvert_exporter": "python",
   "pygments_lexer": "ipython3",
   "version": "3.11.6"
  }
 },
 "nbformat": 4,
 "nbformat_minor": 2
}
