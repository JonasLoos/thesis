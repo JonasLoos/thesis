{
 "cells": [
  {
   "cell_type": "code",
   "execution_count": 1,
   "metadata": {},
   "outputs": [],
   "source": [
    "import numpy as np\n",
    "from sdhelper import SD\n",
    "from PIL import Image\n",
    "import torch\n",
    "import torch.nn.functional as F\n",
    "from tqdm.autonotebook import tqdm, trange\n",
    "import matplotlib.pyplot as plt\n",
    "from datasets import load_dataset\n",
    "\n",
    "torch.set_float32_matmul_precision('high')  # for better performance (got a warning without this during torch compile)\n"
   ]
  },
  {
   "cell_type": "code",
   "execution_count": null,
   "metadata": {},
   "outputs": [],
   "source": [
    "data = load_dataset(\"0jl/NYUv2\", trust_remote_code=True, split=\"train\")\n",
    "data[0].keys()"
   ]
  },
  {
   "cell_type": "code",
   "execution_count": null,
   "metadata": {},
   "outputs": [],
   "source": [
    "sd = SD()"
   ]
  },
  {
   "cell_type": "code",
   "execution_count": null,
   "metadata": {},
   "outputs": [],
   "source": [
    "blocks = ['up_blocks[1]']\n",
    "# blocks = ['up_blocks[1]', 'up_blocks[2].resnets[2]']\n",
    "repr_raw = sd.img2repr([x['image'] for x in data], extract_positions=blocks, step=50, seed=42)\n",
    "# repr_raw = sd.img2repr([x['image'].resize(tuple(np.array(x['image'].size)*2)) for x in data], extract_positions=blocks, step=50, seed=42, batch_size=10)"
   ]
  },
  {
   "cell_type": "code",
   "execution_count": 5,
   "metadata": {},
   "outputs": [],
   "source": [
    "# save vram\n",
    "del sd"
   ]
  },
  {
   "cell_type": "code",
   "execution_count": null,
   "metadata": {},
   "outputs": [],
   "source": [
    "repr_torch = torch.stack([x.concat() for x in repr_raw]).to(dtype=torch.float32).permute(0, 2, 3, 1)\n",
    "\n",
    "n, w, h, features = repr_torch.shape\n",
    "w_orig, h_orig = np.array(data[0]['depth']).shape\n",
    "\n",
    "if w_orig % w != 0 or h_orig % h != 0:\n",
    "    print('fixing width/height...')\n",
    "    w_tmp, h_tmp = w_orig, h_orig\n",
    "    while w_tmp > w or h_tmp > h:\n",
    "        w_tmp //= 2\n",
    "        h_tmp //= 2\n",
    "    print(f'{w}x{h} -> {w_tmp}x{h_tmp}')\n",
    "    w, h = w_tmp, h_tmp\n",
    "    repr_torch = repr_torch[:, :w, :h, :]\n",
    "\n",
    "n_train = int(n * 0.8)\n",
    "n_val = n - n_train\n",
    "\n",
    "repr_train = repr_torch[:n_train]\n",
    "repr_val = repr_torch[n_train:]\n",
    "\n",
    "print(repr_train.shape)"
   ]
  },
  {
   "cell_type": "code",
   "execution_count": 11,
   "metadata": {},
   "outputs": [],
   "source": [
    "depths_full = torch.tensor([x['depth'] for x in data], dtype=torch.float32)\n",
    "depths_scaled = depths_full.reshape(n, w, w_orig//w, h, h_orig//h).mean(dim=(2, 4))\n",
    "depths_train = depths_scaled[:n_train]\n",
    "depths_val = depths_scaled[n_train:]\n"
   ]
  },
  {
   "cell_type": "code",
   "execution_count": 8,
   "metadata": {},
   "outputs": [],
   "source": [
    "# define SiLog loss (https://arxiv.org/abs/1406.2283)\n",
    "\n",
    "def silog_loss(pred, target, lambd=0.5):\n",
    "    diff = torch.log(pred) - torch.log(target)\n",
    "    return ((diff**2).mean() - lambd * diff.mean()**2)**0.5"
   ]
  },
  {
   "cell_type": "markdown",
   "metadata": {},
   "source": [
    "## Simple linear model"
   ]
  },
  {
   "cell_type": "code",
   "execution_count": null,
   "metadata": {},
   "outputs": [],
   "source": [
    "model = torch.nn.Linear(features, 1).to('cuda')\n",
    "\n",
    "optimizer = torch.optim.Adam(model.parameters(), lr=1e-3)\n",
    "\n",
    "losses = []\n",
    "for i in trange(500):\n",
    "    idx = torch.randint(0, n_train, (128,))\n",
    "    repr = repr_train[idx].to('cuda')\n",
    "    depths = depths_train[idx].to('cuda')\n",
    "\n",
    "    pred = model(repr).squeeze(-1)\n",
    "    loss = F.mse_loss(pred, depths)\n",
    "    \n",
    "    optimizer.zero_grad()\n",
    "    loss.backward()\n",
    "    optimizer.step()\n",
    "\n",
    "    print(f'{i}: {loss.item()}')\n",
    "    losses.append(loss.item())"
   ]
  },
  {
   "cell_type": "code",
   "execution_count": null,
   "metadata": {},
   "outputs": [],
   "source": [
    "plt.plot(losses)\n",
    "plt.yscale('log')\n",
    "plt.show()"
   ]
  },
  {
   "cell_type": "code",
   "execution_count": null,
   "metadata": {},
   "outputs": [],
   "source": [
    "# test\n",
    "with torch.no_grad():\n",
    "    pred_test = model(repr_val.to('cuda')).squeeze(-1)\n",
    "    loss_test = F.mse_loss(pred_test, depths_val.to('cuda'))\n",
    "    print(f'val: {loss_test.item()}')"
   ]
  },
  {
   "cell_type": "code",
   "execution_count": null,
   "metadata": {},
   "outputs": [],
   "source": [
    "# plot example\n",
    "idx = torch.randint(0, n_val, (1,)).item()\n",
    "fig, axs = plt.subplots(1, 3, figsize=(12, 4))\n",
    "axs[0].imshow(data[n_train + idx]['image'].rotate(-90, expand=True))\n",
    "axs[0].axis('off')\n",
    "axs[0].set_title('input')\n",
    "axs[1].imshow(np.rot90(depths_val[idx].squeeze().cpu().numpy(), k=-1), cmap='gray_r')\n",
    "axs[1].axis('off')\n",
    "axs[1].set_title('target')\n",
    "axs[2].imshow(np.rot90(pred_test[idx].squeeze().cpu().numpy(), k=-1), cmap='gray_r')\n",
    "axs[2].axis('off')\n",
    "axs[2].set_title('pred')\n",
    "plt.show()\n"
   ]
  },
  {
   "cell_type": "markdown",
   "metadata": {},
   "source": [
    "## Classification model"
   ]
  },
  {
   "cell_type": "code",
   "execution_count": null,
   "metadata": {},
   "outputs": [],
   "source": [
    "num_classes = 20\n",
    "model = torch.nn.Linear(features, num_classes).to('cuda')\n",
    "\n",
    "optimizer = torch.optim.Adam(model.parameters(), lr=1e-3)\n",
    "\n",
    "min_depth = depths_train.min()\n",
    "max_depth = depths_train.max()\n",
    "depths_train_class = ((depths_train - min_depth) / (max_depth - min_depth) * (num_classes - 1)).long()\n",
    "\n",
    "losses = []\n",
    "for i in trange(1000):\n",
    "    idx = torch.randint(0, n_train, (64,))\n",
    "    repr = repr_train[idx].to('cuda')\n",
    "    depths = depths_train_class[idx].flatten().to('cuda')\n",
    "\n",
    "    pred = model(repr)\n",
    "    loss = F.cross_entropy(pred.flatten(0, 2), depths)\n",
    "    \n",
    "    optimizer.zero_grad()\n",
    "    loss.backward()\n",
    "    optimizer.step()\n",
    "    \n",
    "    print(f'{i}: {loss.item()}')\n",
    "    losses.append(loss.item())"
   ]
  },
  {
   "cell_type": "code",
   "execution_count": null,
   "metadata": {},
   "outputs": [],
   "source": [
    "plt.plot(losses)\n",
    "plt.yscale('log')\n",
    "plt.show()"
   ]
  },
  {
   "cell_type": "code",
   "execution_count": null,
   "metadata": {},
   "outputs": [],
   "source": [
    "# test\n",
    "depths_val_class = ((depths_val - min_depth) / (max_depth - min_depth) * (num_classes - 1)).long()\n",
    "with torch.no_grad():\n",
    "    pred_test = model(repr_val.to('cuda'))\n",
    "    loss_test = F.cross_entropy(pred_test.flatten(0, 2), depths_val_class.flatten().to('cuda'))\n",
    "    print(f'val: {loss_test.item()}')"
   ]
  },
  {
   "cell_type": "code",
   "execution_count": null,
   "metadata": {},
   "outputs": [],
   "source": [
    "# plot example\n",
    "idx = torch.randint(0, n_val, (1,)).item()\n",
    "fig, axs = plt.subplots(1, 3, figsize=(12, 4))\n",
    "axs[0].imshow(data[n_train + idx]['image'].rotate(-90, expand=True))\n",
    "axs[0].axis('off')\n",
    "axs[0].set_title('input')\n",
    "axs[1].imshow(np.rot90(depths_val[idx].squeeze().cpu().numpy(), k=-1), cmap='gray_r')\n",
    "axs[1].axis('off')\n",
    "axs[1].set_title('target')\n",
    "axs[2].imshow(np.rot90(pred_test[idx].argmax(dim=-1).squeeze().cpu().numpy(), k=-1), cmap='gray_r')\n",
    "axs[2].axis('off')\n",
    "axs[2].set_title('pred')\n",
    "plt.show()\n"
   ]
  },
  {
   "cell_type": "markdown",
   "metadata": {},
   "source": [
    "## CNN model"
   ]
  },
  {
   "cell_type": "code",
   "execution_count": null,
   "metadata": {},
   "outputs": [],
   "source": [
    "model = torch.nn.Conv2d(features, 1, kernel_size=3, padding=1).to('cuda')\n",
    "\n",
    "optimizer = torch.optim.Adam(model.parameters(), lr=1e-3)\n",
    "\n",
    "losses = []\n",
    "for i in trange(1000):\n",
    "    idx = torch.randint(0, n_train, (64,))\n",
    "    repr = repr_train[idx].permute(0, 3, 1, 2).to('cuda')\n",
    "    depths = depths_train[idx].to('cuda')\n",
    "\n",
    "    pred = model(repr).squeeze(1)\n",
    "    loss = F.mse_loss(pred, depths)\n",
    "    \n",
    "    optimizer.zero_grad()\n",
    "    loss.backward()\n",
    "    optimizer.step()\n",
    "    \n",
    "    print(f'{i}: {loss.item()}')\n",
    "    losses.append(loss.item())"
   ]
  },
  {
   "cell_type": "code",
   "execution_count": null,
   "metadata": {},
   "outputs": [],
   "source": [
    "plt.plot(losses)\n",
    "plt.yscale('log')\n",
    "plt.show()"
   ]
  },
  {
   "cell_type": "code",
   "execution_count": null,
   "metadata": {},
   "outputs": [],
   "source": [
    "# test\n",
    "with torch.no_grad():\n",
    "    pred_test = model(repr_val.permute(0, 3, 1, 2).to('cuda')).squeeze(1)\n",
    "    loss_test = F.mse_loss(pred_test, depths_val.to('cuda'))\n",
    "    print(f'val: {loss_test.item()}')"
   ]
  },
  {
   "cell_type": "code",
   "execution_count": null,
   "metadata": {},
   "outputs": [],
   "source": [
    "# plot example\n",
    "idx = torch.randint(0, n_val, (1,)).item()\n",
    "fig, axs = plt.subplots(1, 3, figsize=(12, 4))\n",
    "axs[0].imshow(data[n_train + idx]['image'].rotate(-90, expand=True))\n",
    "axs[0].axis('off')\n",
    "axs[0].set_title('input')\n",
    "axs[1].imshow(np.rot90(depths_val[idx].squeeze().cpu().numpy(), k=-1), cmap='gray_r')\n",
    "axs[1].axis('off')\n",
    "axs[1].set_title('target')\n",
    "axs[2].imshow(np.rot90(pred_test[idx].squeeze().cpu().numpy(), k=-1), cmap='gray_r')\n",
    "axs[2].axis('off')\n",
    "axs[2].set_title('pred')\n",
    "plt.show()"
   ]
  },
  {
   "cell_type": "markdown",
   "metadata": {},
   "source": [
    "## MLP"
   ]
  },
  {
   "cell_type": "code",
   "execution_count": 9,
   "metadata": {},
   "outputs": [],
   "source": [
    "model = torch.nn.Sequential(\n",
    "    torch.nn.Linear(features, 512),\n",
    "    torch.nn.GELU(),\n",
    "    torch.nn.Dropout(p=0.2),\n",
    "    torch.nn.Linear(512, 512),\n",
    "    torch.nn.GELU(), \n",
    "    torch.nn.Dropout(p=0.2),\n",
    "    torch.nn.Linear(512, 1),\n",
    "    torch.nn.ReLU(),\n",
    ").to('cuda')\n",
    "model = torch.compile(model)\n",
    "\n",
    "optimizer = torch.optim.AdamW(model.parameters(), lr=1e-3)\n",
    "\n",
    "losses = []\n"
   ]
  },
  {
   "cell_type": "code",
   "execution_count": null,
   "metadata": {},
   "outputs": [],
   "source": [
    "model.train()\n",
    "for i in trange(1000):\n",
    "    idx = torch.randint(0, n_train, (128,))\n",
    "    repr = repr_train[idx].to('cuda')\n",
    "    depths = depths_train[idx].to('cuda')\n",
    "\n",
    "    pred = model(repr).squeeze(-1) + 1e-6\n",
    "    loss = silog_loss(pred, depths)\n",
    "    # loss = F.mse_loss(pred, depths)\n",
    "    \n",
    "    optimizer.zero_grad()\n",
    "    loss.backward()\n",
    "    optimizer.step()\n",
    "\n",
    "    print(f'{i}: {loss.item()}')\n",
    "    losses.append(loss.item())"
   ]
  },
  {
   "cell_type": "code",
   "execution_count": null,
   "metadata": {},
   "outputs": [],
   "source": [
    "plt.plot(losses)\n",
    "plt.yscale('log')\n",
    "plt.show()"
   ]
  },
  {
   "cell_type": "code",
   "execution_count": null,
   "metadata": {},
   "outputs": [],
   "source": [
    "# test\n",
    "with torch.no_grad():\n",
    "    model.eval()\n",
    "    pred_test = model(repr_val.to('cuda')).squeeze(-1)\n",
    "    loss_test = F.mse_loss(pred_test, depths_val.to('cuda'))\n",
    "    print(f'val (mse): {loss_test.item()}')\n",
    "    loss_test = silog_loss(pred_test, depths_val.to('cuda'))\n",
    "    print(f'val (silog): {loss_test.item()}')"
   ]
  },
  {
   "cell_type": "code",
   "execution_count": null,
   "metadata": {},
   "outputs": [],
   "source": [
    "# plot example\n",
    "idx = torch.randint(0, n_val, (1,)).item()\n",
    "fig, axs = plt.subplots(1, 4, figsize=(16, 4))\n",
    "axs[0].imshow(data[n_train + idx]['image'].rotate(-90, expand=True))\n",
    "axs[0].axis('off')\n",
    "axs[0].set_title('input')\n",
    "axs[1].imshow(np.rot90(depths_val[idx].squeeze().cpu().numpy(), k=-1), cmap='inferno_r')\n",
    "axs[1].axis('off')\n",
    "axs[1].set_title('target')\n",
    "axs[2].imshow(np.rot90(pred_test[idx].squeeze().cpu().numpy(), k=-1), cmap='inferno_r')\n",
    "axs[2].axis('off')\n",
    "axs[2].set_title('pred')\n",
    "axs[3].imshow(np.rot90(repr_val[idx].norm(dim=2).cpu().numpy(), k=-1), cmap='viridis')\n",
    "axs[3].axis('off')\n",
    "axs[3].set_title('repr norm')\n",
    "plt.show()\n"
   ]
  },
  {
   "cell_type": "markdown",
   "metadata": {},
   "source": [
    "## Complex CNN Classifier"
   ]
  },
  {
   "cell_type": "code",
   "execution_count": null,
   "metadata": {},
   "outputs": [],
   "source": [
    "num_classes = 20\n",
    "model = torch.nn.Sequential(\n",
    "    torch.nn.Conv2d(features, 512, kernel_size=3, padding=1),\n",
    "    torch.nn.GELU(),\n",
    "    torch.nn.Conv2d(512, 128, kernel_size=3, padding=1),\n",
    "    torch.nn.GELU(),\n",
    "    torch.nn.Conv2d(128, num_classes, kernel_size=1),\n",
    ").to('cuda')\n",
    "model = torch.compile(model)\n",
    "\n",
    "optimizer = torch.optim.Adam(model.parameters(), lr=1e-3)\n",
    "\n",
    "min_depth = depths_train.min()\n",
    "max_depth = depths_train.max()\n",
    "depths_train_class = ((depths_train - min_depth) / (max_depth - min_depth) * (num_classes - 1)).long()\n",
    "\n",
    "losses = []\n",
    "for i in trange(1000):\n",
    "    idx = torch.randint(0, n_train, (64,))\n",
    "    repr = repr_train[idx].permute(0, 3, 1, 2).to('cuda')\n",
    "    depths = depths_train_class[idx].flatten().to('cuda')\n",
    "\n",
    "    pred = model(repr)\n",
    "    loss = F.cross_entropy(pred.permute(0, 2, 3, 1).flatten(0, 2), depths)\n",
    "    \n",
    "    optimizer.zero_grad()\n",
    "    loss.backward()\n",
    "    optimizer.step()\n",
    "    \n",
    "    print(f'{i}: {loss.item()}')\n",
    "    losses.append(loss.item())"
   ]
  },
  {
   "cell_type": "code",
   "execution_count": null,
   "metadata": {},
   "outputs": [],
   "source": [
    "plt.plot(losses)\n",
    "plt.yscale('log')\n",
    "plt.show()"
   ]
  },
  {
   "cell_type": "code",
   "execution_count": null,
   "metadata": {},
   "outputs": [],
   "source": [
    "# test\n",
    "depths_val_class = ((depths_val - min_depth) / (max_depth - min_depth) * (num_classes - 1)).long()\n",
    "with torch.no_grad():\n",
    "    pred_test = model(repr_val.permute(0, 3, 1, 2).to('cuda')).permute(0, 2, 3, 1)\n",
    "    loss_test = F.cross_entropy(pred_test.flatten(0, 2), depths_val_class.flatten().to('cuda'))\n",
    "    print(f'val: {loss_test.item()}')"
   ]
  },
  {
   "cell_type": "code",
   "execution_count": null,
   "metadata": {},
   "outputs": [],
   "source": [
    "# plot example\n",
    "idx = torch.randint(0, n_val, (1,)).item()\n",
    "fig, axs = plt.subplots(1, 3, figsize=(12, 4))\n",
    "axs[0].imshow(data[n_train + idx]['image'].rotate(-90, expand=True))\n",
    "axs[0].axis('off')\n",
    "axs[0].set_title('input')\n",
    "axs[1].imshow(np.rot90(depths_val[idx].squeeze().cpu().numpy(), k=-1), cmap='gray_r')\n",
    "axs[1].axis('off')\n",
    "axs[1].set_title('target')\n",
    "axs[2].imshow(np.rot90(pred_test[idx].argmax(dim=-1).squeeze().cpu().numpy(), k=-1), cmap='gray_r')\n",
    "axs[2].axis('off')\n",
    "axs[2].set_title('pred')\n",
    "plt.show()\n"
   ]
  },
  {
   "cell_type": "markdown",
   "metadata": {},
   "source": [
    "## Complex CNN Model"
   ]
  },
  {
   "cell_type": "code",
   "execution_count": 52,
   "metadata": {},
   "outputs": [],
   "source": [
    "model = torch.nn.Sequential(\n",
    "    torch.nn.Conv2d(features, 512, kernel_size=3, padding=1),\n",
    "    torch.nn.SiLU(),\n",
    "    torch.nn.Conv2d(512, 512, kernel_size=3, padding=1),\n",
    "    torch.nn.SiLU(),\n",
    "    torch.nn.Conv2d(512, 1, kernel_size=1),\n",
    "    torch.nn.ELU(),\n",
    ").to('cuda')\n",
    "model = torch.compile(model)\n",
    "\n",
    "optimizer = torch.optim.AdamW(model.parameters(), lr=1e-3)\n",
    "losses = []\n"
   ]
  },
  {
   "cell_type": "code",
   "execution_count": null,
   "metadata": {},
   "outputs": [],
   "source": [
    "for i in trange(1000):\n",
    "    idx = torch.randint(0, n_train, (64,))\n",
    "    repr = repr_train[idx].permute(0, 3, 1, 2).to('cuda')\n",
    "    depths = depths_train[idx].to('cuda')\n",
    "\n",
    "    pred = model(repr).squeeze(1) + 1\n",
    "    loss = F.mse_loss(pred, depths)\n",
    "    \n",
    "    optimizer.zero_grad()\n",
    "    loss.backward()\n",
    "    optimizer.step()\n",
    "    \n",
    "    print(f'{i}: {loss.item()}')\n",
    "    losses.append(loss.item())"
   ]
  },
  {
   "cell_type": "code",
   "execution_count": null,
   "metadata": {},
   "outputs": [],
   "source": [
    "plt.plot(losses)\n",
    "plt.yscale('log')\n",
    "plt.show()"
   ]
  },
  {
   "cell_type": "code",
   "execution_count": null,
   "metadata": {},
   "outputs": [],
   "source": [
    "# test\n",
    "with torch.no_grad():\n",
    "    pred_test = model(repr_val.permute(0, 3, 1, 2).to('cuda')).squeeze(1)\n",
    "    loss_test = F.mse_loss(pred_test, depths_val.to('cuda'))\n",
    "    print(f'val: {loss_test.item()}')"
   ]
  },
  {
   "cell_type": "code",
   "execution_count": null,
   "metadata": {},
   "outputs": [],
   "source": [
    "# plot example\n",
    "idx = torch.randint(0, n_val, (1,)).item()\n",
    "fig, axs = plt.subplots(1, 4, figsize=(16, 4))\n",
    "axs[0].imshow(data[n_train + idx]['image'].rotate(-90, expand=True))\n",
    "axs[0].axis('off')\n",
    "axs[0].set_title('input')\n",
    "axs[1].imshow(np.rot90(depths_val[idx].squeeze().cpu().numpy(), k=-1), cmap='inferno_r')\n",
    "axs[1].axis('off')\n",
    "axs[1].set_title('target')\n",
    "axs[2].imshow(np.rot90(pred_test[idx].squeeze().cpu().numpy(), k=-1), cmap='inferno_r')\n",
    "axs[2].axis('off')\n",
    "axs[2].set_title('pred')\n",
    "axs[3].imshow(np.rot90(repr_val[idx].norm(dim=2).cpu().numpy(), k=-1), cmap='viridis')\n",
    "axs[3].axis('off')\n",
    "axs[3].set_title('repr norm')\n",
    "plt.show()\n"
   ]
  },
  {
   "cell_type": "markdown",
   "metadata": {},
   "source": [
    "## Like \"Beyond Surface Statistics\""
   ]
  },
  {
   "cell_type": "code",
   "execution_count": 27,
   "metadata": {},
   "outputs": [],
   "source": [
    "model = torch.nn.Linear(features, 1).to('cuda')\n",
    "# model = torch.compile(model)\n",
    "\n",
    "optimizer = torch.optim.AdamW(model.parameters(), lr=1e-3)\n",
    "losses = []\n"
   ]
  },
  {
   "cell_type": "code",
   "execution_count": null,
   "metadata": {},
   "outputs": [],
   "source": [
    "for i in trange(1000):\n",
    "    idx = torch.randint(0, n_train, (128,))\n",
    "    repr = repr_train[idx].to('cuda')\n",
    "    depths = depths_full[idx].to('cuda')\n",
    "\n",
    "    pred = model(repr).squeeze(-1).unsqueeze(1)\n",
    "    pred_full = F.interpolate(pred, (w_orig, h_orig), mode='bilinear').squeeze(1)\n",
    "    loss = F.huber_loss(pred_full, depths)\n",
    "    \n",
    "    optimizer.zero_grad()\n",
    "    loss.backward()\n",
    "    optimizer.step()\n",
    "    \n",
    "    print(f'{i}: {loss.item()}')\n",
    "    losses.append(loss.item())"
   ]
  },
  {
   "cell_type": "code",
   "execution_count": null,
   "metadata": {},
   "outputs": [],
   "source": [
    "plt.plot(losses)\n",
    "plt.yscale('log')\n",
    "plt.show()"
   ]
  },
  {
   "cell_type": "code",
   "execution_count": null,
   "metadata": {},
   "outputs": [],
   "source": [
    "# test\n",
    "with torch.no_grad():\n",
    "    pred_test = model(repr_val.to('cuda')).squeeze(-1).unsqueeze(1)\n",
    "    pred_test_full = F.interpolate(pred_test, (w_orig, h_orig), mode='bilinear').squeeze(1)\n",
    "    mse_loss_test = F.mse_loss(pred_test_full, depths_full[n_train:].to('cuda'))\n",
    "    print(f'mse val: {mse_loss_test.item()}')\n",
    "    huber_loss_test = F.huber_loss(pred_test_full, depths_full[n_train:].to('cuda'))\n",
    "    print(f'huber val: {huber_loss_test.item()}')\n"
   ]
  },
  {
   "cell_type": "code",
   "execution_count": null,
   "metadata": {},
   "outputs": [],
   "source": [
    "# plot example\n",
    "idx = torch.randint(0, n_val, (1,)).item()\n",
    "fig, axs = plt.subplots(1, 4, figsize=(16, 4))\n",
    "axs[0].imshow(data[n_train + idx]['image'].rotate(-90, expand=True))\n",
    "axs[0].axis('off')\n",
    "axs[0].set_title('input')\n",
    "axs[1].imshow(np.rot90(depths_full[n_train + idx].squeeze().cpu().numpy(), k=-1), cmap='inferno_r')\n",
    "axs[1].axis('off')\n",
    "axs[1].set_title('target')\n",
    "axs[2].imshow(np.rot90(pred_test_full[idx].squeeze().cpu().numpy(), k=-1), cmap='inferno_r')\n",
    "axs[2].axis('off')\n",
    "axs[2].set_title('pred')\n",
    "axs[3].imshow(np.rot90(repr_val[idx].norm(dim=2).cpu().numpy(), k=-1), cmap='viridis')\n",
    "axs[3].axis('off')\n",
    "axs[3].set_title('repr norm')\n",
    "plt.show()\n"
   ]
  }
 ],
 "metadata": {
  "kernelspec": {
   "display_name": "py311",
   "language": "python",
   "name": "python3"
  },
  "language_info": {
   "codemirror_mode": {
    "name": "ipython",
    "version": 3
   },
   "file_extension": ".py",
   "mimetype": "text/x-python",
   "name": "python",
   "nbconvert_exporter": "python",
   "pygments_lexer": "ipython3",
   "version": "3.11.6"
  }
 },
 "nbformat": 4,
 "nbformat_minor": 2
}
