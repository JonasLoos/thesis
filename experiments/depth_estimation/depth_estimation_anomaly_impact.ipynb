{
 "cells": [
  {
   "cell_type": "code",
   "execution_count": 3,
   "metadata": {},
   "outputs": [],
   "source": [
    "import numpy as np\n",
    "from sdhelper import SD\n",
    "from PIL import Image\n",
    "import torch\n",
    "import torch.nn.functional as F\n",
    "from tqdm.autonotebook import tqdm, trange\n",
    "import matplotlib.pyplot as plt\n",
    "from datasets import load_dataset\n",
    "import torch\n",
    "\n",
    "torch.set_float32_matmul_precision('high')  # for better performance (got a warning without this during torch compile)\n"
   ]
  },
  {
   "cell_type": "code",
   "execution_count": 4,
   "metadata": {},
   "outputs": [],
   "source": [
    "blocks = [\n",
    "    *[f'down_blocks[{i}]' for i in range(4)],\n",
    "    'mid_block',\n",
    "    *[f'up_blocks[{i}]' for i in range(4)],\n",
    "]"
   ]
  },
  {
   "cell_type": "code",
   "execution_count": null,
   "metadata": {},
   "outputs": [],
   "source": [
    "data = load_dataset(\"0jl/NYUv2\", trust_remote_code=True, split=\"train\")\n",
    "data[0].keys()"
   ]
  },
  {
   "cell_type": "code",
   "execution_count": null,
   "metadata": {},
   "outputs": [],
   "source": [
    "sd = SD()\n"
   ]
  },
  {
   "cell_type": "code",
   "execution_count": null,
   "metadata": {},
   "outputs": [],
   "source": [
    "repr_raw = sd.img2repr([x['image'] for x in data], extract_positions=blocks, step=50, seed=42)\n"
   ]
  },
  {
   "cell_type": "code",
   "execution_count": null,
   "metadata": {},
   "outputs": [],
   "source": [
    "block = 'up_blocks[1]'\n",
    "\n",
    "depths_full = torch.tensor([x['depth'] for x in data], dtype=torch.float32)\n",
    "n, w_orig, h_orig = depths_full.shape\n",
    "n_train = int(n * 0.8)\n",
    "n_val = n - n_train\n",
    "depths_train = depths_full[:n_train]\n",
    "depths_val = depths_full[n_train:]\n",
    "print(n, w_orig, h_orig)\n",
    "\n",
    "repr_torch = torch.stack([x[block].squeeze(0) for x in repr_raw]).to(dtype=torch.float32).permute(0, 2, 3, 1)\n",
    "print(repr_torch.shape)\n",
    "\n",
    "repr_train = repr_torch[:n_train]\n",
    "repr_val = repr_torch[n_train:]\n",
    "features = repr_torch.shape[-1]\n"
   ]
  },
  {
   "cell_type": "code",
   "execution_count": null,
   "metadata": {},
   "outputs": [],
   "source": [
    "mean_anomaly = torch.load(\"../data/data_labeler/imagenet_subset_high_norm_anomalies_step50_seed42_heavy_only_reprs_of_patches_mean.pt\", weights_only=True).to(dtype=torch.float32).to('cuda')\n",
    "mean_anomaly.shape"
   ]
  },
  {
   "cell_type": "code",
   "execution_count": null,
   "metadata": {},
   "outputs": [],
   "source": [
    "\n",
    "model = torch.nn.Linear(features, 1).to('cuda')\n",
    "\n",
    "optimizer = torch.optim.AdamW(model.parameters(), lr=1e-3)\n",
    "losses = []\n",
    "\n",
    "for i in trange(1000):\n",
    "    idx = torch.randint(0, n_train, (64,))\n",
    "    repr = repr_train[idx].to('cuda')\n",
    "    depths = depths_full[idx].to('cuda')\n",
    "\n",
    "    pred = model(repr).squeeze(-1).unsqueeze(1)\n",
    "    pred_full = F.interpolate(pred, (w_orig, h_orig), mode='bilinear').squeeze(1)\n",
    "    loss = F.huber_loss(pred_full, depths)\n",
    "    \n",
    "    optimizer.zero_grad()\n",
    "    loss.backward()\n",
    "    optimizer.step()\n",
    "    \n",
    "    print(f'{i}: {loss.item()}')\n",
    "    losses.append(loss.item())\n",
    "\n",
    "plt.plot(losses)\n",
    "plt.yscale('log')\n",
    "plt.show()"
   ]
  },
  {
   "cell_type": "code",
   "execution_count": null,
   "metadata": {},
   "outputs": [],
   "source": [
    "depths.shape"
   ]
  },
  {
   "cell_type": "code",
   "execution_count": null,
   "metadata": {},
   "outputs": [],
   "source": [
    "# test performance on val set\n",
    "with torch.no_grad():\n",
    "    repr = repr_val.to('cuda')\n",
    "    depths = depths_val.to('cuda')\n",
    "    \n",
    "    pred = model(repr).squeeze(-1).unsqueeze(1)\n",
    "    pred_full = F.interpolate(pred, (w_orig, h_orig), mode='bilinear').squeeze(1)\n",
    "    val_loss = F.huber_loss(pred_full, depths)\n",
    "    print(f'Validation loss: {val_loss.item()}')\n",
    "\n",
    "# test performance on borders\n",
    "with torch.no_grad():\n",
    "    repr = repr_val.to('cuda')\n",
    "    depths = depths_val.to('cuda')\n",
    "    depths_borders = torch.cat([depths[:, :16, :], depths[:, :, :16].transpose(-1, -2), depths[:, :, -16:].transpose(-1, -2), depths[:, -16:, :]], dim=-1)\n",
    "    \n",
    "    pred = model(repr).squeeze(-1).unsqueeze(1)\n",
    "    pred_full = F.interpolate(pred, (w_orig, h_orig), mode='bilinear').squeeze(1)\n",
    "    pred_borders = torch.cat([pred_full[:, :16, :], pred_full[:, :, :16].transpose(-1, -2), pred_full[:, :, -16:].transpose(-1, -2), pred_full[:, -16:, :]], dim=-1)\n",
    "    val_loss = F.huber_loss(pred_borders, depths_borders)\n",
    "    print(f'Validation loss on borders: {val_loss.item():.4f} ({depths_borders.numel()} - {depths_borders.numel() / depths.numel():.2%} of total)')\n",
    "\n",
    "# test performance on corners\n",
    "with torch.no_grad():\n",
    "    repr = repr_val.to('cuda')\n",
    "    depths = depths_val.to('cuda')\n",
    "    depths_corners = torch.stack([depths[:, :16, :16], depths[:, :16, -16:], depths[:, -16:, :16], depths[:, -16:, -16:]])\n",
    "\n",
    "    pred = model(repr).squeeze(-1).unsqueeze(1)\n",
    "    pred_full = F.interpolate(pred, (w_orig, h_orig), mode='bilinear').squeeze(1)\n",
    "    pred_corners = torch.stack([pred_full[:, :16, :16], pred_full[:, :16, -16:], pred_full[:, -16:, :16], pred_full[:, -16:, -16:]])\n",
    "    val_loss = F.huber_loss(pred_corners, depths_corners)\n",
    "    print(f'Validation loss on corners: {val_loss.item():.4f} ({depths_corners.numel()} - {depths_corners.numel() / depths.numel():.2%} of total)')\n",
    "\n",
    "# test performance on anomalies\n",
    "with torch.no_grad():\n",
    "    repr = repr_val.to('cuda')\n",
    "    depths = depths_val.to('cuda')\n",
    "    \n",
    "    similarities = torch.nn.functional.cosine_similarity(repr, mean_anomaly, dim=-1)\n",
    "    similarities_map_upscaled = ((similarities > 0.8) & (repr.norm(dim=-1) > (0.0 * repr.norm(dim=-1).max())))[:,:,None,:,None].expand((-1, -1, 2**4, -1, 2**4)).reshape(depths.shape)\n",
    "    depths_anomalies = depths[similarities_map_upscaled]\n",
    "    pred = model(repr).squeeze(-1).unsqueeze(1)\n",
    "    pred_full = F.interpolate(pred, (w_orig, h_orig), mode='bilinear').squeeze(1)\n",
    "    pred_anomalies = pred_full[similarities_map_upscaled]\n",
    "    val_loss = F.huber_loss(pred_anomalies, depths_anomalies)\n",
    "    print(f'Validation loss on anomalies: {val_loss.item():.4f} ({depths_anomalies.numel()} - {depths_anomalies.numel() / depths.numel():.2%} of total)')\n"
   ]
  },
  {
   "cell_type": "code",
   "execution_count": null,
   "metadata": {},
   "outputs": [],
   "source": [
    "plt.hist(similarities.cpu().numpy().flatten(), bins=100)\n",
    "plt.hist(repr.norm(dim=-1).cpu().numpy().flatten() / repr.norm(dim=-1).cpu().numpy().flatten().max(), bins=100, alpha=0.5)\n",
    "plt.yscale('log')\n",
    "plt.show()"
   ]
  }
 ],
 "metadata": {
  "kernelspec": {
   "display_name": "py311",
   "language": "python",
   "name": "python3"
  },
  "language_info": {
   "codemirror_mode": {
    "name": "ipython",
    "version": 3
   },
   "file_extension": ".py",
   "mimetype": "text/x-python",
   "name": "python",
   "nbconvert_exporter": "python",
   "pygments_lexer": "ipython3",
   "version": "3.11.6"
  }
 },
 "nbformat": 4,
 "nbformat_minor": 2
}
