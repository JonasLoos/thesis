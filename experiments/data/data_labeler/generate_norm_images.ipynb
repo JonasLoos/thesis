{
 "cells": [
  {
   "cell_type": "code",
   "execution_count": 10,
   "metadata": {},
   "outputs": [],
   "source": [
    "from datasets import load_dataset\n",
    "from sdhelper import SD\n",
    "from PIL import Image\n",
    "from pathlib import Path\n",
    "import numpy as np"
   ]
  },
  {
   "cell_type": "code",
   "execution_count": 11,
   "metadata": {},
   "outputs": [],
   "source": [
    "block = 'conv_in'"
   ]
  },
  {
   "cell_type": "code",
   "execution_count": null,
   "metadata": {},
   "outputs": [],
   "source": [
    "# data = load_dataset(\"JonasLoos/imagenet_subset\", split=\"train\")\n",
    "data = load_dataset(\"0jl/NYUv2\", split=\"train\", trust_remote_code=True)\n",
    "sd = SD()"
   ]
  },
  {
   "cell_type": "code",
   "execution_count": null,
   "metadata": {},
   "outputs": [],
   "source": [
    "representations = sd.img2repr([x['image'] for x in data], extract_positions=[block], step=50, seed=42)"
   ]
  },
  {
   "cell_type": "code",
   "execution_count": 14,
   "metadata": {},
   "outputs": [],
   "source": [
    "target_folder = Path(\"images_tmp\")\n",
    "target_folder.mkdir(parents=True, exist_ok=True)\n",
    "\n",
    "for i, r in enumerate(representations):\n",
    "    norm = r[block].squeeze(0).norm(dim=0).numpy()\n",
    "    norm /= norm.max()\n",
    "    norm *= 255\n",
    "    img = Image.fromarray(norm.astype(np.uint8))\n",
    "    img.save(target_folder / f\"norm_{i:04d}.png\")"
   ]
  },
  {
   "cell_type": "code",
   "execution_count": null,
   "metadata": {},
   "outputs": [],
   "source": [
    "representations[1].seed"
   ]
  }
 ],
 "metadata": {
  "kernelspec": {
   "display_name": "py311",
   "language": "python",
   "name": "python3"
  },
  "language_info": {
   "codemirror_mode": {
    "name": "ipython",
    "version": 3
   },
   "file_extension": ".py",
   "mimetype": "text/x-python",
   "name": "python",
   "nbconvert_exporter": "python",
   "pygments_lexer": "ipython3",
   "version": "3.11.6"
  }
 },
 "nbformat": 4,
 "nbformat_minor": 2
}
