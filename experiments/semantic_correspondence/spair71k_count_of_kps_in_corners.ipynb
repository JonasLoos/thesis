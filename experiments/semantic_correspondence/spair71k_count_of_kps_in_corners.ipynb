{
 "cells": [
  {
   "cell_type": "code",
   "execution_count": 26,
   "metadata": {},
   "outputs": [],
   "source": [
    "from datasets import load_dataset\n",
    "from tqdm.autonotebook import tqdm\n",
    "import matplotlib.pyplot as plt\n",
    "import numpy as np"
   ]
  },
  {
   "cell_type": "code",
   "execution_count": null,
   "metadata": {},
   "outputs": [],
   "source": [
    "data = load_dataset('0jl/SPair-71k', name='data', split='train')"
   ]
  },
  {
   "cell_type": "code",
   "execution_count": null,
   "metadata": {},
   "outputs": [],
   "source": [
    "distances_from_corner = []\n",
    "for x in tqdm(data):\n",
    "    w, h = x['image_width'], x['image_height']\n",
    "    for kp in x['kps']:\n",
    "        if kp[0] < 0 or kp[1] < 0: continue\n",
    "        distances_from_corner.append(min(max(abs(kp[0]-i), abs(kp[1]-j)) for i, j in [(0,0), (0,h-1), (w-1,0), (w-1, h-1)]))\n",
    "distances_from_corner = np.array(distances_from_corner)"
   ]
  },
  {
   "cell_type": "code",
   "execution_count": null,
   "metadata": {},
   "outputs": [],
   "source": [
    "plt.hist(distances_from_corner, bins=100)\n",
    "plt.show()"
   ]
  },
  {
   "cell_type": "code",
   "execution_count": null,
   "metadata": {},
   "outputs": [],
   "source": [
    "sizes = [8, 16, 32, 64]\n",
    "changes = []\n",
    "for size in sizes:\n",
    "    corner_kps = (distances_from_corner < size).sum()\n",
    "    avg_kp_per_token = len(distances_from_corner) / (512/size)**2\n",
    "    print(f'size: {size}')\n",
    "    print(f'corner tokens: {corner_kps} ({corner_kps / len(distances_from_corner):.5%})')\n",
    "    print(f'avg kps per token: {avg_kp_per_token:.5} ({1 / (512/size)**2:.5%})')\n",
    "    print(f'change in kps for corners: {(corner_kps/4) / avg_kp_per_token:.5} - {avg_kp_per_token / (corner_kps/4):.5}')\n",
    "    changes.append((corner_kps/4) / avg_kp_per_token)\n",
    "\n",
    "plt.plot(sizes, changes)\n",
    "plt.xscale('log')\n",
    "plt.xlabel('token size')\n",
    "plt.ylabel('change in kps for corners')\n",
    "plt.xticks(sizes, [f'{s}x{s}' for s in sizes])\n",
    "plt.minorticks_off()\n",
    "plt.show()\n"
   ]
  },
  {
   "cell_type": "code",
   "execution_count": null,
   "metadata": {},
   "outputs": [],
   "source": []
  }
 ],
 "metadata": {
  "kernelspec": {
   "display_name": "py311",
   "language": "python",
   "name": "python3"
  },
  "language_info": {
   "codemirror_mode": {
    "name": "ipython",
    "version": 3
   },
   "file_extension": ".py",
   "mimetype": "text/x-python",
   "name": "python",
   "nbconvert_exporter": "python",
   "pygments_lexer": "ipython3",
   "version": "3.11.6"
  }
 },
 "nbformat": 4,
 "nbformat_minor": 2
}
