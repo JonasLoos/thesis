{
 "cells": [
  {
   "cell_type": "markdown",
   "metadata": {},
   "source": [
    "## Visualize h-space pixel norms using histograms"
   ]
  },
  {
   "cell_type": "code",
   "execution_count": null,
   "metadata": {},
   "outputs": [],
   "source": [
    "import torch\n",
    "import numpy as np\n",
    "import matplotlib.pyplot as plt\n",
    "from sdhelper import SD\n",
    "from tqdm.notebook import tqdm, trange"
   ]
  },
  {
   "cell_type": "code",
   "execution_count": null,
   "metadata": {},
   "outputs": [],
   "source": [
    "p_norm = 2\n",
    "samples = 20\n",
    "# for model in ['SD-Turbo', 'SDXL-Turbo', 'SD1.5']:#, 'SD2.1']:\n",
    "for model in ['SDXL-Turbo']:\n",
    "    sd = SD(model)\n",
    "    sd.pipeline.set_progress_bar_config(disable=True)\n",
    "    print(model)\n",
    "    all_norms = []\n",
    "    for i in trange(samples):\n",
    "        norms = []\n",
    "        result = sd('a cat', seed=i, extract_positions=['mid_block'])\n",
    "        for step, repr in enumerate(result.representations['mid_block']):\n",
    "            x = repr.to(dtype=torch.float32)\n",
    "            norm = x.norm(p_norm, 0)\n",
    "            norms.append(norm)\n",
    "        all_norms.append(torch.stack(norms))\n",
    "    all_norms = torch.stack(all_norms).cpu().numpy().transpose(1, 0, 2, 3)\n",
    "    \n",
    "    # Set up colormap\n",
    "    colormap = plt.cm.rainbow\n",
    "    color_steps = np.linspace(0, 1, len(all_norms))\n",
    "    color_iterator = iter(colormap(color_steps))\n",
    "\n",
    "    # plot\n",
    "    for step, norm in enumerate(all_norms):\n",
    "        plt.hist(norm.flatten(), bins=30, alpha=.7, label=f'step {step}', color=next(color_iterator))\n",
    "    plt.title(f'{model} h-space L{p_norm} norm distribution ({samples} samples)')\n",
    "    plt.xlabel(f'L{p_norm} norm')\n",
    "    plt.ylabel('count')\n",
    "    if len(all_norms) < 10:\n",
    "        plt.legend()\n",
    "    else:\n",
    "        # plot only every 10th legend entry\n",
    "        handles, labels = plt.gca().get_legend_handles_labels()\n",
    "        plt.legend(handles[::10], labels[::10])\n",
    "    plt.show()"
   ]
  }
 ],
 "metadata": {
  "kernelspec": {
   "display_name": "py311",
   "language": "python",
   "name": "python3"
  },
  "language_info": {
   "codemirror_mode": {
    "name": "ipython",
    "version": 3
   },
   "file_extension": ".py",
   "mimetype": "text/x-python",
   "name": "python",
   "nbconvert_exporter": "python",
   "pygments_lexer": "ipython3",
   "version": "3.11.6"
  }
 },
 "nbformat": 4,
 "nbformat_minor": 2
}
