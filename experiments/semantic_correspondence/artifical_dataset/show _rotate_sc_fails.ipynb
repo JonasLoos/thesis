{
 "cells": [
  {
   "cell_type": "markdown",
   "metadata": {},
   "source": [
    "# Do Semantic Correspondence / Dense Matching between images and their rotated versions"
   ]
  },
  {
   "cell_type": "code",
   "execution_count": null,
   "metadata": {},
   "outputs": [],
   "source": [
    "from sdhelper import SD\n",
    "import numpy as np\n",
    "from tqdm.autonotebook import tqdm, trange\n",
    "from matplotlib import pyplot as plt\n",
    "import PIL.Image\n",
    "import PIL.ImageOps\n",
    "import torch\n"
   ]
  },
  {
   "cell_type": "code",
   "execution_count": null,
   "metadata": {},
   "outputs": [],
   "source": [
    "sd = SD()"
   ]
  },
  {
   "cell_type": "code",
   "execution_count": null,
   "metadata": {},
   "outputs": [],
   "source": [
    "n=512\n",
    "seed=42\n",
    "step=50\n",
    "img_paths = [\n",
    "    'cat_next_to_house.png',\n",
    "    'cat_going_right.png',\n",
    "]\n",
    "\n",
    "\n",
    "imgs = [PIL.Image.open(img_path).resize((n, n)) for img_path in img_paths]\n",
    "poss = [\n",
    "    ['down_blocks[0]'],\n",
    "    ['down_blocks[1]'],\n",
    "    ['down_blocks[2]'],\n",
    "    ['down_blocks[3]'],\n",
    "    ['mid_block'],\n",
    "    ['up_blocks[0]'],\n",
    "    ['up_blocks[1]'],\n",
    "    ['up_blocks[2]'],\n",
    "    ['up_blocks[3]'],\n",
    "]\n",
    "reprs = [[sd.img2repr(img, pos, step=step, seed=seed) for pos in poss] for img in imgs]\n",
    "reprs_flipped = [[sd.img2repr(img.rotate(180), pos, step=step, seed=seed) for pos in poss] for img in imgs]\n",
    "# setup colorwheel\n",
    "colorwheel = np.zeros((n, n, 3), dtype=np.uint8)\n",
    "offset = n/2 + .5\n",
    "for i in range(n):\n",
    "    for j in range(n):\n",
    "        angle = np.arctan2(i-offset, j-offset)\n",
    "        dist = 1 - np.sqrt((i-offset)**2 + (j-offset)**2) / offset / np.sqrt(2)\n",
    "        colorwheel[i, j, :] = np.array([.5+.5*np.sin(angle), .5+.5*np.sin(angle+np.pi/2), dist]) * 255\n",
    "# setup figure\n",
    "fig, axs = plt.subplots(len(poss)+2, len(imgs)*3, figsize=((len(imgs)*3)*3+1, (len(poss)+2)*3))\n",
    "# plot original images\n",
    "for i, img in enumerate(imgs):\n",
    "    axs[0, 3*i].imshow(img)\n",
    "    axs[0, 3*i].axis('off')\n",
    "    axs[0, 3*i].set_title('(Transferred) Image')\n",
    "    axs[0, 3*i+1].imshow(colorwheel)\n",
    "    axs[0, 3*i+1].axis('off')\n",
    "    axs[0, 3*i+1].set_title('(Transferred) Colorwheel')\n",
    "    axs[0, 3*i+2].axis('off')\n",
    "    axs[0, 3*i+2].set_title('Error between transferred and target')\n",
    "# plot flipped images\n",
    "for i, img in enumerate(imgs):\n",
    "    axs[1, 3*i].imshow(img.rotate(180))\n",
    "    axs[1, 3*i].axis('off')\n",
    "    axs[1, 3*i+1].imshow(colorwheel[::-1, ::-1])\n",
    "    axs[1, 3*i+1].axis('off')\n",
    "    axs[1, 3*i+2].axis('off')\n",
    "# plot transferred images\n",
    "for i, img in enumerate(imgs):\n",
    "    for j, pos in enumerate(poss):\n",
    "        img = np.array(img)\n",
    "        similarities = reprs[i][j].cosine_similarity(reprs_flipped[i][j])\n",
    "        transferred_img = np.zeros_like(img)\n",
    "        transferred_colorwheel = np.zeros_like(img)\n",
    "        m = similarities.shape[0]\n",
    "        s = n // m\n",
    "        for k in range(m):\n",
    "            for l in range(m):\n",
    "                argmax = similarities[:,:,k, l].flatten().argmax()\n",
    "                k_, l_ = argmax // m, argmax % m\n",
    "                transferred_img[k*s:(k+1)*s, l*s:(l+1)*s] = img[k_*s:(k_+1)*s, l_*s:(l_+1)*s][::-1, ::-1]  # use ::-1 to flip, and ::1 to not flip\n",
    "                transferred_colorwheel[k*s:(k+1)*s, l*s:(l+1)*s] = colorwheel[k_*s:(k_+1)*s, l_*s:(l_+1)*s][::-1, ::-1]\n",
    "        dist_compared_to_flipped = np.zeros((m, m))\n",
    "\n",
    "        indices = similarities.view(-1, m, m).argmax(dim=0)\n",
    "        k_, l_ = indices // m, indices % m\n",
    "        k_, l_ = m - 1 - k_, m - 1 - l_  # rotate 180 degrees\n",
    "        k, l = torch.meshgrid(torch.arange(m), torch.arange(m), indexing='ij')\n",
    "        errors = ((k - k_)**2 + (l - l_)**2)**.5\n",
    "        all_distances = torch.cdist(*[torch.stack([k.flatten(), l.flatten()], dim=1).float()]*2)\n",
    "        percentiles = (all_distances < errors.flatten().unsqueeze(1)).float().mean(dim=1).reshape(errors.shape)\n",
    "\n",
    "        axs[j+2, 3*i].imshow(transferred_img)\n",
    "        axs[j+2, 3*i].axis('off')\n",
    "        axs[j+2, 3*i+1].imshow(transferred_colorwheel)\n",
    "        axs[j+2, 3*i+1].axis('off')\n",
    "        axs[j+2, 3*i+2].imshow(np.where(percentiles == 0, np.nan, percentiles), cmap='YlOrRd', interpolation='nearest')\n",
    "        axs[j+2, 3*i+2].axis('off')\n",
    "\n",
    "for i, pos in enumerate(['Source Image', 'Target Image\\n(rotated 180°)'] + [' & '.join(pos) for pos in poss]):\n",
    "    axs[i, 0].text(-0.1, 0.5, pos, va='center', ha='right', transform=axs[i, 0].transAxes)\n",
    "plt.tight_layout()\n"
   ]
  }
 ],
 "metadata": {
  "kernelspec": {
   "display_name": "py311",
   "language": "python",
   "name": "python3"
  },
  "language_info": {
   "codemirror_mode": {
    "name": "ipython",
    "version": 3
   },
   "file_extension": ".py",
   "mimetype": "text/x-python",
   "name": "python",
   "nbconvert_exporter": "python",
   "pygments_lexer": "ipython3",
   "version": "3.11.6"
  }
 },
 "nbformat": 4,
 "nbformat_minor": 2
}
