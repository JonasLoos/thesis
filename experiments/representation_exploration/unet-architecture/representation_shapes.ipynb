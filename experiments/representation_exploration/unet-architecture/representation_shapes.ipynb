{
 "cells": [
  {
   "cell_type": "code",
   "execution_count": null,
   "metadata": {},
   "outputs": [],
   "source": [
    "from sdhelper import SD\n",
    "from PIL import Image"
   ]
  },
  {
   "cell_type": "code",
   "execution_count": null,
   "metadata": {},
   "outputs": [],
   "source": [
    "sd = SD('sd1.5')"
   ]
  },
  {
   "cell_type": "code",
   "execution_count": null,
   "metadata": {},
   "outputs": [],
   "source": [
    "pos = list(sorted([  # only for SD1.5 and similar\n",
    "    'mid_block',\n",
    "    *[f'{d}_blocks[{i}]' for i in range(4) for d in ['up', 'down']],\n",
    "    'mid_block.attentions[0]',\n",
    "    'mid_block.resnets[0]',\n",
    "    'mid_block.resnets[1]',\n",
    "    *[f'{d}_blocks[{i}].{t}[{j}]'\n",
    "      for d, tmp in [\n",
    "          ('down', [(2,2), (2,2), (2,2), (0,2)]),\n",
    "          ('up', [(0,3), (3,3), (3,3), (3,3)]),\n",
    "      ]\n",
    "      for i, (a_len, r_len) in enumerate(tmp)\n",
    "      for t, j in zip(['attentions']*a_len + ['resnets']*r_len, [*range(a_len), *range(r_len)])\n",
    "    ],\n",
    "]))\n",
    "\n",
    "reprs = sd.img2repr(Image.new('RGB', (512,512), (0, 0, 0)), pos, 100)\n",
    "for p, r in reprs.data.items():\n",
    "    print(f'{p:30} {tuple(r.shape)}')"
   ]
  },
  {
   "cell_type": "code",
   "execution_count": null,
   "metadata": {},
   "outputs": [],
   "source": [
    "a = sd.img2repr(Image.new('RGB', (512,512), (0, 0, 0)), [], 100)"
   ]
  }
 ],
 "metadata": {
  "kernelspec": {
   "display_name": "py311",
   "language": "python",
   "name": "python3"
  },
  "language_info": {
   "codemirror_mode": {
    "name": "ipython",
    "version": 3
   },
   "file_extension": ".py",
   "mimetype": "text/x-python",
   "name": "python",
   "nbconvert_exporter": "python",
   "pygments_lexer": "ipython3",
   "version": "3.1.-1"
  }
 },
 "nbformat": 4,
 "nbformat_minor": 2
}
