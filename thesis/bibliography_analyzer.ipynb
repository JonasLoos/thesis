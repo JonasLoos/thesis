{
 "cells": [
  {
   "cell_type": "code",
   "execution_count": 1,
   "metadata": {},
   "outputs": [],
   "source": [
    "from pathlib import Path\n",
    "from collections import defaultdict, Counter"
   ]
  },
  {
   "cell_type": "code",
   "execution_count": 2,
   "metadata": {},
   "outputs": [],
   "source": [
    "raw_data = Path(\"./bibliography.bib\").read_text()\n"
   ]
  },
  {
   "cell_type": "code",
   "execution_count": 3,
   "metadata": {},
   "outputs": [],
   "source": [
    "entries = {}\n",
    "for entry in raw_data.split(\"@\")[1:]:\n",
    "    item = {}\n",
    "    line = entry.split('\\n')[0]\n",
    "    try:\n",
    "        item['ref_type'] = entry.split(\"{\")[0].strip()\n",
    "        item['id'] = entry.split(\"{\")[1].split(\",\")[0].strip()\n",
    "        for line in entry.split(\"\\n\")[1:]:\n",
    "            line = line.strip()\n",
    "            if not line or line == '}' or line[0] == '%': continue\n",
    "            key, *values = line.split(\"=\")\n",
    "            value = \"=\".join(values).strip().strip(\",\").strip(\"{\").strip(\"}\").strip('\"').strip(\"'\").strip()\n",
    "            item[key.strip()] = value\n",
    "    except Exception as e:\n",
    "        print('#################### ERROR ####################')\n",
    "        print(line)\n",
    "        print(item)\n",
    "        print(e)\n",
    "    entries[item['id']] = item\n"
   ]
  },
  {
   "cell_type": "code",
   "execution_count": null,
   "metadata": {},
   "outputs": [],
   "source": [
    "variations = defaultdict(list)\n",
    "for entry in entries.values():\n",
    "    for key, value in entry.items():\n",
    "        if key == 'id': continue\n",
    "        variations[key].append(value)\n",
    "\n",
    "for key, values in variations.items():\n",
    "    counts = Counter(values)\n",
    "    print(f'# {key}')\n",
    "    remaining = 0\n",
    "    remaining_count = 0\n",
    "    for i, (value, count) in enumerate(sorted(counts.items(), key=lambda x: x[1], reverse=True)):\n",
    "        if i < 10 and count > 1 or len(counts) < 10:\n",
    "            print(f'{i+1}. {value}: {count}')\n",
    "        else:\n",
    "            remaining += 1\n",
    "            remaining_count += count\n",
    "    if remaining > 0:\n",
    "        print(f'remaining: {remaining} ({remaining_count})')\n",
    "    print()"
   ]
  },
  {
   "cell_type": "code",
   "execution_count": null,
   "metadata": {},
   "outputs": [],
   "source": [
    "# print all for selected fields\n",
    "for name in ['journal', 'booktitle', 'publisher']:\n",
    "    print(f'# {name}')\n",
    "    for x in sorted(set(variations[name])):\n",
    "        print(x, len([y for y in variations[name] if y == x]))\n",
    "    print()\n"
   ]
  },
  {
   "cell_type": "code",
   "execution_count": 6,
   "metadata": {},
   "outputs": [],
   "source": [
    "# open all arxiv links in browser\n",
    "def open_arxiv_link():\n",
    "    import subprocess\n",
    "    import urllib.parse\n",
    "    for entry in entries.values():\n",
    "        if entry.get('archivePrefix') == 'arXiv':\n",
    "            url = f'https://scholar.google.de/scholar?q={urllib.parse.quote(entry[\"title\"])}'\n",
    "            print(url)\n",
    "            subprocess.run([r'YOUR_BROWSER_PATH', url])\n",
    "\n",
    "# open_arxiv_link()"
   ]
  }
 ],
 "metadata": {
  "kernelspec": {
   "display_name": "py312",
   "language": "python",
   "name": "python3"
  },
  "language_info": {
   "codemirror_mode": {
    "name": "ipython",
    "version": 3
   },
   "file_extension": ".py",
   "mimetype": "text/x-python",
   "name": "python",
   "nbconvert_exporter": "python",
   "pygments_lexer": "ipython3",
   "version": "3.11.6"
  }
 },
 "nbformat": 4,
 "nbformat_minor": 2
}
