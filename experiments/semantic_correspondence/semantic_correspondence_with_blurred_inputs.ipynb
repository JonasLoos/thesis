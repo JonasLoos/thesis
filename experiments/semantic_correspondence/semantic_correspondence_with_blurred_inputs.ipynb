{
 "cells": [
  {
   "cell_type": "code",
   "execution_count": null,
   "metadata": {},
   "outputs": [],
   "source": [
    "from sdhelper import SD\n",
    "import torch\n",
    "import numpy as np\n",
    "import datasets\n",
    "from tqdm.autonotebook import tqdm, trange\n",
    "from matplotlib import pyplot as plt\n",
    "import PIL.Image\n",
    "from typing import Callable"
   ]
  },
  {
   "cell_type": "code",
   "execution_count": null,
   "metadata": {},
   "outputs": [],
   "source": [
    "sd = SD('SD1.5')\n",
    "data = datasets.load_dataset('0jl/SPair-71k', 'data', split='train', trust_remote_code=True)\n",
    "pairs = datasets.load_dataset('0jl/SPair-71k', 'pairs', split='test', trust_remote_code=True)"
   ]
  },
  {
   "cell_type": "code",
   "execution_count": null,
   "metadata": {},
   "outputs": [],
   "source": [
    "def sc(transform_img: Callable):\n",
    "    # precalculate representations\n",
    "    representations = [\n",
    "        sd.img2repr(transform_img(x['img']), ['up_blocks[1]'], 100, prompt=x['name'].split('/')[0]) for x in tqdm(data, desc='Calculating representations')\n",
    "    ]\n",
    "\n",
    "    # calculate percentage of correct keypoints at 10% of the bounding box (PCK@0.1_bbox)\n",
    "    correct = []\n",
    "    for x in (t:=tqdm(pairs, desc='Calculating SC')):\n",
    "        a = representations[x['src_data_index']].concat()\n",
    "        a /= torch.norm(a, dim=0, keepdim=True)\n",
    "        b = representations[x['trg_data_index']].concat()\n",
    "        b /= torch.norm(b, dim=0, keepdim=True)\n",
    "        tbb = np.array(x['trg_bndbox'])\n",
    "        tbb_max = max(tbb[2] - tbb[0], tbb[3] - tbb[1])\n",
    "        for ([sx, sy],[tx,ty]) in zip(x['src_kps'], x['trg_kps']):\n",
    "            src_repr = a[:, sy*a.shape[1]//x['src_img'].size[1], sx*a.shape[2]//x['src_img'].size[0]]\n",
    "            cossim = (b * src_repr[:,None,None]).sum(dim=0)\n",
    "            max_idx = cossim.argmax()\n",
    "            y_max, x_max = np.unravel_index(max_idx, cossim.shape)\n",
    "            x_max_pixel = x_max * x['trg_img'].size[0] / b.shape[2]\n",
    "            y_max_pixel = y_max * x['trg_img'].size[1] / b.shape[1]\n",
    "            dist = np.sqrt((x_max_pixel - tx)**2 + (y_max_pixel - ty)**2)\n",
    "            relative_dist = dist / tbb_max\n",
    "            correct.append(relative_dist < 0.1)\n",
    "        if len(correct) % 100 == 0:\n",
    "            t.set_postfix(pck=np.mean(correct)*100)\n",
    "\n",
    "        \n",
    "def transform_img(img):\n",
    "    return img\n"
   ]
  },
  {
   "cell_type": "code",
   "execution_count": null,
   "metadata": {},
   "outputs": [],
   "source": [
    "\n",
    "def noise_img(img, noise_level):\n",
    "    return PIL.Image.fromarray(np.clip(np.array(img) + np.random.normal(0, noise_level, np.array(img).shape), 0, 255).astype(np.uint8))\n",
    "\n",
    "for noise_level in [0, 5, 50, 100, 200]:\n",
    "    print(f'Noise level: {noise_level}')\n",
    "    sc(lambda img: noise_img(img, noise_level))\n"
   ]
  },
  {
   "cell_type": "code",
   "execution_count": null,
   "metadata": {},
   "outputs": [],
   "source": [
    "def blur_img(img, blur_radius):\n",
    "    return img.filter(PIL.ImageFilter.GaussianBlur(blur_radius))\n",
    "\n",
    "for blur_radius in [0, 2, 5, 20, 50]:\n",
    "    print(f'Blur radius: {blur_radius}')\n",
    "    sc(lambda img: blur_img(img, blur_radius))"
   ]
  },
  {
   "cell_type": "code",
   "execution_count": null,
   "metadata": {},
   "outputs": [],
   "source": [
    "noise_img(data[0]['img'], 200)"
   ]
  },
  {
   "cell_type": "code",
   "execution_count": null,
   "metadata": {},
   "outputs": [],
   "source": [
    "blur_img(data[0]['img'], 5)"
   ]
  }
 ],
 "metadata": {
  "kernelspec": {
   "display_name": "py311",
   "language": "python",
   "name": "python3"
  },
  "language_info": {
   "codemirror_mode": {
    "name": "ipython",
    "version": 3
   },
   "file_extension": ".py",
   "mimetype": "text/x-python",
   "name": "python",
   "nbconvert_exporter": "python",
   "pygments_lexer": "ipython3",
   "version": "3.11.6"
  }
 },
 "nbformat": 4,
 "nbformat_minor": 2
}
