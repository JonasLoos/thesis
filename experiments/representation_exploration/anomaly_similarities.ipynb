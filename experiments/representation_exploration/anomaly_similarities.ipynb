{
 "cells": [
  {
   "cell_type": "code",
   "execution_count": 29,
   "metadata": {},
   "outputs": [],
   "source": [
    "import numpy as np\n",
    "from sdhelper import SD\n",
    "import torch\n",
    "import matplotlib.pyplot as plt\n",
    "from datasets import load_dataset\n",
    "import torch\n",
    "from tqdm.autonotebook import tqdm\n",
    "from torch.nn import functional as F"
   ]
  },
  {
   "cell_type": "code",
   "execution_count": 3,
   "metadata": {},
   "outputs": [],
   "source": [
    "imagenet_subset = load_dataset(\"JonasLoos/imagenet_subset\", split=\"train\")\n",
    "is_up1_anomalies = np.load(\"../data/data_labeler/high_norm_anomalies_imagenet_subset_step50_seed42_heavy_only.npy\")\n",
    "is_convin_anomalies = np.load(\"../data/data_labeler/high_norm_anomalies_imagenet_subset_step50_seed42_conv_in.npy\")\n"
   ]
  },
  {
   "cell_type": "code",
   "execution_count": 5,
   "metadata": {},
   "outputs": [],
   "source": [
    "nyuv2 = load_dataset(\"0jl/NYUv2\", split=\"train\")\n",
    "nyuv2_up1_anomalies = np.load(\"../data/data_labeler/high_norm_anomalies_nyuv2_step50_seed42.npy\")\n"
   ]
  },
  {
   "cell_type": "code",
   "execution_count": null,
   "metadata": {},
   "outputs": [],
   "source": [
    "sd = SD()"
   ]
  },
  {
   "cell_type": "code",
   "execution_count": null,
   "metadata": {},
   "outputs": [],
   "source": [
    "is_reprs = sd.img2repr([x['image'] for x in tqdm(imagenet_subset)], extract_positions=['up_blocks[1]'], step=50, seed=42)\n",
    "nyuv2_reprs = sd.img2repr([x['image'] for x in tqdm(nyuv2)], extract_positions=['up_blocks[1]'], step=50, seed=42)"
   ]
  },
  {
   "cell_type": "code",
   "execution_count": null,
   "metadata": {},
   "outputs": [],
   "source": [
    "is_reprs_torch = torch.stack([x.concat().permute(1,2,0) for x in is_reprs])\n",
    "nyuv2_reprs_torch = torch.stack([x.concat().permute(1,2,0) for x in nyuv2_reprs])\n",
    "\n",
    "is_reprs_train = is_reprs_torch[:int(0.8*len(is_reprs_torch))]\n",
    "is_reprs_test = is_reprs_torch[int(0.8*len(is_reprs_torch)):]\n",
    "nyuv2_reprs_train = nyuv2_reprs_torch[:int(0.8*len(nyuv2_reprs_torch))]\n",
    "nyuv2_reprs_test = nyuv2_reprs_torch[int(0.8*len(nyuv2_reprs_torch)):]\n",
    "\n",
    "print(f'{is_reprs_train.shape = }')\n",
    "print(f'{is_reprs_test.shape = }')\n",
    "print(f'{nyuv2_reprs_train.shape = }')\n",
    "print(f'{nyuv2_reprs_test.shape = }')\n"
   ]
  },
  {
   "cell_type": "code",
   "execution_count": null,
   "metadata": {},
   "outputs": [],
   "source": [
    "# get anomaly representations\n",
    "\n",
    "is_anomalies_all = np.concatenate([is_up1_anomalies + [[0,i,j]] for i in [0,1] for j in [0,1]])[:,[0,2,1]]  # use the full 2x2 anomaly patches\n",
    "is_anomalies_train = is_anomalies_all[is_anomalies_all[:,0] < len(is_reprs_train)]\n",
    "is_reprs_anomalies_train = torch.stack([is_reprs_train[i,j,k,:] for i,j,k in is_anomalies_train])\n",
    "is_anomalies_test = is_anomalies_all[is_anomalies_all[:,0] >= len(is_reprs_train)] - [[len(is_reprs_train),0,0]]  # image index is shifted to the beginning of the test set\n",
    "is_reprs_anomalies_test = torch.stack([is_reprs_test[i,j,k,:] for i,j,k in is_anomalies_test])\n",
    "\n",
    "nyuv2_anomalies_all = np.concatenate([nyuv2_up1_anomalies + [[0,i,j]] for i in [0,1] for j in [0,1]])[:,[0,2,1]]\n",
    "nyuv2_anomalies_train = nyuv2_anomalies_all[nyuv2_anomalies_all[:,0] < len(nyuv2_reprs_train)]\n",
    "nyuv2_reprs_anomalies_train = torch.stack([nyuv2_reprs_train[i,j,k,:] for i,j,k in nyuv2_anomalies_train])\n",
    "nyuv2_anomalies_test = nyuv2_anomalies_all[nyuv2_anomalies_all[:,0] >= len(nyuv2_reprs_train)] - [[len(nyuv2_reprs_train),0,0]]\n",
    "nyuv2_reprs_anomalies_test = torch.stack([nyuv2_reprs_test[i,j,k,:] for i,j,k in nyuv2_anomalies_test])\n",
    "\n",
    "print(f'{is_reprs_anomalies_train.shape = }')\n",
    "print(f'{is_reprs_anomalies_test.shape = }')\n",
    "print(f'{nyuv2_reprs_anomalies_train.shape = }')\n",
    "print(f'{nyuv2_reprs_anomalies_test.shape = }')\n"
   ]
  },
  {
   "cell_type": "code",
   "execution_count": 599,
   "metadata": {},
   "outputs": [],
   "source": [
    "is_prototype_anomaly = is_reprs_anomalies_train.mean(dim=0)\n",
    "nyuv2_prototype_anomaly = nyuv2_reprs_anomalies_train.mean(dim=0)"
   ]
  },
  {
   "cell_type": "code",
   "execution_count": null,
   "metadata": {},
   "outputs": [],
   "source": [
    "# search for most similar representations and check if they are anomalies\n",
    "\n",
    "is_sims = F.cosine_similarity(is_prototype_anomaly[None,:], is_reprs_test.flatten(0,2), dim=-1)\n",
    "is_found_anomalies = np.array(np.unravel_index(torch.arange(len(is_sims))[is_sims > 0.75], is_reprs_test.shape[:3])).T\n",
    "is_intersection_size = len(set(tuple(x) for x in is_anomalies_test) & set(tuple(x) for x in is_found_anomalies))\n",
    "print(f'IS:    found - ({len(is_found_anomalies)-is_intersection_size} | {is_intersection_size} | {len(is_anomalies_test)-is_intersection_size}) - test')\n",
    "\n",
    "nyuv2_sims = F.cosine_similarity(nyuv2_prototype_anomaly[None,:], nyuv2_reprs_test.flatten(0,2), dim=-1)\n",
    "nyuv2_found_anomalies = np.array(np.unravel_index(torch.arange(len(nyuv2_sims))[nyuv2_sims > 0.75], nyuv2_reprs_test.shape[:3])).T\n",
    "nyuv2_intersection_size = len(set(tuple(x) for x in nyuv2_anomalies_test) & set(tuple(x) for x in nyuv2_found_anomalies))\n",
    "print(f'NYUV2: found - ({len(nyuv2_found_anomalies)-nyuv2_intersection_size} | {nyuv2_intersection_size} | {len(nyuv2_anomalies_test)-nyuv2_intersection_size}) - test')\n"
   ]
  },
  {
   "cell_type": "code",
   "execution_count": null,
   "metadata": {},
   "outputs": [],
   "source": [
    "i = torch.randint(len(is_reprs_test), (1,)).item()\n",
    "img = imagenet_subset[len(is_reprs_train)+i]['image']\n",
    "norm = is_reprs_test[i].norm(dim=-1)\n",
    "\n",
    "labeled_anomalies = is_anomalies_test[is_anomalies_test[:,0] == i].tolist()\n",
    "found_anomalies = is_found_anomalies[is_found_anomalies[:,0] == i].tolist()\n",
    "wrongly_found_anomalies = np.array([x for x in found_anomalies if x not in labeled_anomalies])\n",
    "correctly_found_anomalies = np.array([x for x in found_anomalies if x in labeled_anomalies])\n",
    "missing_anomalies = np.array([x for x in labeled_anomalies if x not in found_anomalies])\n",
    "\n",
    "print(f'found: ({len(wrongly_found_anomalies)} | {len(correctly_found_anomalies)} | {len(missing_anomalies)})')\n",
    "\n",
    "plt.figure(figsize=(12,6))\n",
    "plt.subplot(1,2,1)\n",
    "plt.imshow(img)\n",
    "plt.axis('off')\n",
    "plt.subplot(1,2,2)\n",
    "if len(wrongly_found_anomalies) > 0: plt.scatter(wrongly_found_anomalies[:,2], wrongly_found_anomalies[:,1], c='orange', marker='x')\n",
    "if len(correctly_found_anomalies) > 0: plt.scatter(correctly_found_anomalies[:,2], correctly_found_anomalies[:,1], c='green', marker='x')\n",
    "if len(missing_anomalies) > 0: plt.scatter(missing_anomalies[:,2], missing_anomalies[:,1], c='purple', marker='x')\n",
    "plt.imshow(norm, cmap='gray')\n",
    "plt.axis('off')\n",
    "plt.show()\n"
   ]
  },
  {
   "cell_type": "code",
   "execution_count": null,
   "metadata": {},
   "outputs": [],
   "source": [
    "def find_anomalies(min_sim):\n",
    "    is_sims = F.cosine_similarity(is_prototype_anomaly[None,:], is_reprs_test.flatten(0,2), dim=-1)\n",
    "    is_found_anomalies = np.array(np.unravel_index(torch.arange(len(is_sims))[is_sims > min_sim], is_reprs_test.shape[:3])).T\n",
    "    is_intersection_size = len(set(tuple(x) for x in is_anomalies_test) & set(tuple(x) for x in is_found_anomalies))\n",
    "    # print(f'IS:    found - ({len(is_found_anomalies)-is_intersection_size} | {is_intersection_size} | {len(is_anomalies_test)-is_intersection_size}) - test')\n",
    "    return len(is_found_anomalies)-is_intersection_size, is_intersection_size, len(is_anomalies_test)-is_intersection_size\n",
    "\n",
    "\n",
    "x = np.linspace(0.6, 0.99, 20)\n",
    "tmp = np.array([find_anomalies(i) for i in x])\n",
    "\n",
    "plt.bar(x, tmp[:,0]+tmp[:,1], label='false positives', color='orange', width=0.018)\n",
    "plt.bar(x, tmp[:,1], label='true positives', color='green', width=0.018)\n",
    "plt.bar(x, -tmp[:,2], label='false negatives', color='purple', width=0.018)\n",
    "plt.title('imagenet subset - up[1] anomaly search')\n",
    "plt.xlabel('min. cosine similarity')\n",
    "plt.ylabel('count')\n",
    "plt.legend()\n",
    "plt.show()\n",
    "\n",
    "plt.plot(x, tmp[:,0], label='false positives', color='orange')\n",
    "plt.plot(x, tmp[:,1], label='true positives', color='green')\n",
    "plt.plot(x, tmp[:,2], label='false negatives', color='purple')\n",
    "plt.xlabel('min. cosine similarity')\n",
    "plt.ylabel('count')\n",
    "plt.title('imagenet subset - up[1] anomaly search')\n",
    "plt.legend()\n",
    "plt.show()"
   ]
  },
  {
   "cell_type": "code",
   "execution_count": null,
   "metadata": {},
   "outputs": [],
   "source": [
    "# anomaly search NYUv2 (train) -> NYUv2 (test)\n",
    "\n",
    "def find_anomalies(min_sim):\n",
    "    nyuv2_sims = F.cosine_similarity(nyuv2_prototype_anomaly[None,:], nyuv2_reprs_test.flatten(0,2), dim=-1)\n",
    "    nyuv2_found_anomalies = np.array(np.unravel_index(torch.arange(len(nyuv2_sims))[nyuv2_sims > min_sim], nyuv2_reprs_test.shape[:3])).T\n",
    "    nyuv2_intersection_size = len(set(tuple(x) for x in nyuv2_anomalies_test) & set(tuple(x) for x in nyuv2_found_anomalies))\n",
    "    # print(f'IS:    found - ({len(nyuv2_found_anomalies)-nyuv2_intersection_size} | {nyuv2_intersection_size} | {len(nyuv2_anomalies_test)-nyuv2_intersection_size}) - test')\n",
    "    return len(nyuv2_found_anomalies)-nyuv2_intersection_size, nyuv2_intersection_size, len(nyuv2_anomalies_test)-nyuv2_intersection_size\n",
    "\n",
    "\n",
    "x = np.linspace(0.6, 0.99, 20)\n",
    "tmp = np.array([find_anomalies(i) for i in x])\n",
    "\n",
    "plt.bar(x, tmp[:,0]+tmp[:,1], label='false positives', color='orange', width=0.018)\n",
    "plt.bar(x, tmp[:,1], label='true positives', color='green', width=0.018)\n",
    "plt.bar(x, -tmp[:,2], label='false negatives', color='purple', width=0.018)\n",
    "plt.title('NYUv2 - up[1] anomaly search')\n",
    "plt.xlabel('min. cosine similarity')\n",
    "plt.ylabel('count')\n",
    "plt.legend()\n",
    "plt.show()"
   ]
  },
  {
   "cell_type": "code",
   "execution_count": null,
   "metadata": {},
   "outputs": [],
   "source": [
    "# anomaly search IM (train) -> NYUv2 (all)\n",
    "\n",
    "def find_anomalies(min_sim):\n",
    "    nyuv2_sims = F.cosine_similarity(is_prototype_anomaly[None,:], nyuv2_reprs_torch.flatten(0,2), dim=-1)\n",
    "    nyuv2_found_anomalies = np.array(np.unravel_index(torch.arange(len(nyuv2_sims))[nyuv2_sims > min_sim], nyuv2_reprs_torch.shape[:3])).T\n",
    "    nyuv2_intersection_size = len(set(tuple(x) for x in nyuv2_anomalies_all) & set(tuple(x) for x in nyuv2_found_anomalies))\n",
    "    # print(f'IS:    found - ({len(nyuv2_found_anomalies)-nyuv2_intersection_size} | {nyuv2_intersection_size} | {len(nyuv2_anomalies_all)-nyuv2_intersection_size}) - test')\n",
    "    return len(nyuv2_found_anomalies)-nyuv2_intersection_size, nyuv2_intersection_size, len(nyuv2_anomalies_all)-nyuv2_intersection_size\n",
    "\n",
    "\n",
    "x = np.linspace(0.6, 0.99, 20)\n",
    "tmp = np.array([find_anomalies(i) for i in tqdm(x)])\n",
    "\n",
    "plt.bar(x, tmp[:,0]+tmp[:,1], label='false positives', color='orange', width=0.018)\n",
    "plt.bar(x, tmp[:,1], label='true positives', color='green', width=0.018)\n",
    "plt.bar(x, -tmp[:,2], label='false negatives', color='purple', width=0.018)\n",
    "plt.title('IS -> NYUv2 - up[1] anomaly search')\n",
    "plt.xlabel('min. cosine similarity')\n",
    "plt.ylabel('count')\n",
    "plt.legend()\n",
    "plt.show()"
   ]
  }
 ],
 "metadata": {
  "kernelspec": {
   "display_name": "py311",
   "language": "python",
   "name": "python3"
  },
  "language_info": {
   "codemirror_mode": {
    "name": "ipython",
    "version": 3
   },
   "file_extension": ".py",
   "mimetype": "text/x-python",
   "name": "python",
   "nbconvert_exporter": "python",
   "pygments_lexer": "ipython3",
   "version": "3.11.6"
  }
 },
 "nbformat": 4,
 "nbformat_minor": 2
}
