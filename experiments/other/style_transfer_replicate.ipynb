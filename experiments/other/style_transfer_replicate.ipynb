{
 "cells": [
  {
   "cell_type": "code",
   "execution_count": 8,
   "metadata": {},
   "outputs": [],
   "source": [
    "import replicate\n",
    "import os\n",
    "from PIL import Image\n",
    "import io\n",
    "import datasets\n",
    "from pathlib import Path\n",
    "from tqdm.autonotebook import trange"
   ]
  },
  {
   "cell_type": "code",
   "execution_count": 9,
   "metadata": {},
   "outputs": [],
   "source": [
    "os.environ['REPLICATE_API_TOKEN'] = 'r8_...'"
   ]
  },
  {
   "cell_type": "code",
   "execution_count": 10,
   "metadata": {},
   "outputs": [],
   "source": [
    "imagenet_subset = datasets.load_dataset(\"JonasLoos/imagenet_subset\", split=\"train\")\n"
   ]
  },
  {
   "cell_type": "code",
   "execution_count": 11,
   "metadata": {},
   "outputs": [],
   "source": [
    "output_dir = Path(\"imagenet_subset_style_transfer\")\n",
    "output_dir.mkdir(exist_ok=True)\n"
   ]
  },
  {
   "cell_type": "code",
   "execution_count": null,
   "metadata": {},
   "outputs": [],
   "source": [
    "for i in trange(10):\n",
    "    img = imagenet_subset[i]['image']\n",
    "    img_file = io.BytesIO()\n",
    "    img.save(img_file, format='JPEG')\n",
    "    img_file.seek(0)\n",
    "    output = replicate.run(\n",
    "        \"fofr/style-transfer:f1023890703bc0a5a3a2c21b5e498833be5f6ef6e70e9daf6b9b3a4fd8309cf0\",\n",
    "        input={\n",
    "            \"style_image\": \"https://replicate.delivery/pbxt/KlTqluRakBzt7N5mm1WExEQCc4J3usa7E3n5dhttcayTqFRm/van-gogh.jpeg\",\n",
    "            \"structure_image\": img_file,\n",
    "            \"prompt\": \"painting\",\n",
    "            \"structure_depth_strength\": 1.2,\n",
    "            \"structure_denoising_strength\": 0.55,\n",
    "        }\n",
    "    )\n",
    "    result_image = Image.open(io.BytesIO(output[0].read()))\n",
    "    result_image.save(output_dir / f\"{i:03d}.jpg\")\n"
   ]
  }
 ],
 "metadata": {
  "kernelspec": {
   "display_name": "py311",
   "language": "python",
   "name": "python3"
  },
  "language_info": {
   "codemirror_mode": {
    "name": "ipython",
    "version": 3
   },
   "file_extension": ".py",
   "mimetype": "text/x-python",
   "name": "python",
   "nbconvert_exporter": "python",
   "pygments_lexer": "ipython3",
   "version": "3.11.6"
  }
 },
 "nbformat": 4,
 "nbformat_minor": 2
}
