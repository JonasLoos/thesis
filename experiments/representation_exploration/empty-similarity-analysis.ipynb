{
 "cells": [
  {
   "cell_type": "markdown",
   "metadata": {},
   "source": [
    "## Setup"
   ]
  },
  {
   "cell_type": "code",
   "execution_count": null,
   "metadata": {},
   "outputs": [],
   "source": [
    "from sdhelper import SD\n",
    "from PIL import Image\n",
    "import numpy as np\n",
    "import torch\n",
    "import matplotlib.pyplot as plt\n",
    "import matplotlib.gridspec as gridspec\n",
    "\n",
    "from tqdm.autonotebook import trange, tqdm\n",
    "from collections import defaultdict"
   ]
  },
  {
   "cell_type": "code",
   "execution_count": null,
   "metadata": {},
   "outputs": [],
   "source": [
    "sd = SD('SD1.5')"
   ]
  },
  {
   "cell_type": "markdown",
   "metadata": {},
   "source": [
    "## Calculate cosine similarity between all blocks"
   ]
  },
  {
   "cell_type": "code",
   "execution_count": null,
   "metadata": {},
   "outputs": [],
   "source": [
    "\n",
    "pos = list(sorted([  # only for SD1.5 and similar\n",
    "    'mid_block',\n",
    "    *[f'{d}_blocks[{i}]' for i in range(4) for d in ['up', 'down']],\n",
    "    'mid_block.attentions[0]',\n",
    "    'mid_block.resnets[0]',\n",
    "    'mid_block.resnets[1]',\n",
    "    *[f'{d}_blocks[{i}].{t}[{j}]'\n",
    "      for d, tmp in [\n",
    "          ('down', [(2,2), (2,2), (2,2), (0,2)]),\n",
    "          ('up', [(0,3), (3,3), (3,3), (3,3)]),\n",
    "      ]\n",
    "      for i, (a_len, r_len) in enumerate(tmp)\n",
    "      for t, j in zip(['attentions']*a_len + ['resnets']*r_len, [*range(a_len), *range(r_len)])\n",
    "    ],\n",
    "]))\n",
    "\n",
    "n = 50\n",
    "cossim = dict()\n",
    "for _ in trange(n):\n",
    "    empty_img = Image.new('RGB', (512, 512), (0, 0, 0))\n",
    "    r = sd.img2repr(empty_img, pos, 50, output_device='cuda')\n",
    "    for p in pos:\n",
    "        tmp = r.at(p).cosine_similarity(r.at(p)) / n\n",
    "        if p not in cossim:\n",
    "            cossim[p] = torch.zeros_like(tmp)\n",
    "        cossim[p] += tmp"
   ]
  },
  {
   "cell_type": "markdown",
   "metadata": {},
   "source": [
    "## similarity over distance"
   ]
  },
  {
   "cell_type": "code",
   "execution_count": null,
   "metadata": {},
   "outputs": [],
   "source": [
    "def plot_similarity_over_distance(cossim, p, distance_metric=1):\n",
    "    shape = cossim[p].shape\n",
    "\n",
    "    # Process in chunks to reduce memory usage\n",
    "    chunk_size = 1000  # Adjust this based on your available memory\n",
    "    tmp = defaultdict(list)\n",
    "\n",
    "    for start in range(0, shape[0] * shape[1], chunk_size):\n",
    "        end = min(start + chunk_size, shape[0] * shape[1])\n",
    "        i, j = np.unravel_index(np.arange(start, end), (shape[0], shape[1]))\n",
    "        coords1 = torch.tensor(np.stack([i, j], axis=1), dtype=torch.float)\n",
    "        for k in range(shape[2]):\n",
    "            for l in range(shape[3]):\n",
    "                coords2 = torch.tensor([[k, l]], dtype=torch.float)\n",
    "                distances = torch.cdist(coords1, coords2, p=distance_metric).squeeze()\n",
    "                cossim_values = cossim[p][i, j, k, l]\n",
    "                for d, v in zip(distances.tolist(), cossim_values.tolist()):\n",
    "                    tmp[d].append(v)\n",
    "\n",
    "    tmp = sorted(tmp.items())\n",
    "    plt.scatter(\n",
    "        torch.cdist(\n",
    "            torch.tensor(list(np.ndindex(shape[:2]))).float(),\n",
    "            torch.tensor(list(np.ndindex(shape[2:]))).float(),\n",
    "        ).flatten(),\n",
    "        cossim[p].flatten().cpu(),\n",
    "        s=0.1,\n",
    "        alpha=0.5,\n",
    "    )\n",
    "    plt.plot(\n",
    "        *zip(*((k, np.mean(v)) for k, v in tmp)),\n",
    "        label=f'{i},{j}',\n",
    "        color='orange',\n",
    "    )\n",
    "    plt.xlabel(f'L{distance_metric} Distance')\n",
    "    plt.ylabel('Cosine Similarity')\n",
    "    plt.title(f'{p}')\n",
    "\n",
    "# pos_tmp = [f'down_blocks[{i}]' for i in range(0,4)] + ['mid_block'] + [f'up_blocks[{i}]' for i in range(3)]  # ignore up_blocks[3] cuz of high resolution\n",
    "pos_tmp = [f'down_blocks[{i}]' for i in range(1,4)] + ['mid_block'] + [f'up_blocks[{i}]' for i in range(2)]\n",
    "plt.figure(figsize=(8, 3*len(pos_tmp)))\n",
    "plt.suptitle('Cosine Similarity over Distance')\n",
    "for i, p in enumerate(tqdm(pos_tmp)):\n",
    "    plt.subplot(len(pos_tmp), 2, 2*i+1)\n",
    "    plot_similarity_over_distance(cossim, p, 1)\n",
    "    plt.subplot(len(pos_tmp), 2, 2*i+2)\n",
    "    plot_similarity_over_distance(cossim, p, 2)\n",
    "plt.tight_layout()\n",
    "plt.show()\n"
   ]
  },
  {
   "cell_type": "markdown",
   "metadata": {},
   "source": [
    "## Plot cosine similarity distribution for all blocks"
   ]
  },
  {
   "cell_type": "code",
   "execution_count": null,
   "metadata": {},
   "outputs": [],
   "source": [
    "for p, x in cossim.items():\n",
    "    n = x.shape[0]\n",
    "    x = x.cpu().numpy()\n",
    "    tmp = np.full((n**2+n+1,n**2+n+1), np.nan)\n",
    "    for i in range(n):\n",
    "        for j in range(n):\n",
    "            tmp[i*(n+1)+1:(i+1)*(n+1),j*(n+1)+1:(j+1)*(n+1)] = x[i,j]\n",
    "\n",
    "    fig, ax = plt.subplots(figsize=(10,10))\n",
    "\n",
    "    plt.imshow(tmp, vmin=0, vmax=1)\n",
    "    plt.title(p)\n",
    "    # Remove the spines\n",
    "    for spine in ax.spines.values():\n",
    "        spine.set_visible(False)\n",
    "\n",
    "    plt.xticks(np.arange(0,(n+1)*n,(n+1)) + n/2 + .5, range(n))\n",
    "    plt.yticks(np.arange(0,(n+1)*n,(n+1)) + n/2 + .5, range(n))\n",
    "    plt.xlabel('x-position of reference location')\n",
    "    plt.ylabel('y-position of reference location')\n",
    "    plt.show()"
   ]
  },
  {
   "cell_type": "markdown",
   "metadata": {},
   "source": [
    "## Plot cosine similarity over different resolutions and aspect ratios"
   ]
  },
  {
   "cell_type": "code",
   "execution_count": null,
   "metadata": {},
   "outputs": [],
   "source": [
    "pos = [f'down_blocks[{i}]' for i in range(4)] + ['mid_block'] + [f'up_blocks[{i}]' for i in range(4)]\n",
    "res1 = (512, 512)\n",
    "res_others = [\n",
    "    (768,768),\n",
    "    (256, 512),\n",
    "    (512, 256),\n",
    "    (256, 256),\n",
    "]\n",
    "\n",
    "# Create two empty images\n",
    "img1 = Image.new('RGB', res1, (0, 0, 0))\n",
    "img_others = [Image.new('RGB', res, (0, 0, 0)) for res in res_others]\n",
    "\n",
    "# Compute cosine similarity\n",
    "cossims = [{p: [] for p in pos} for _ in range(len(res_others))]\n",
    "for _ in trange(50):\n",
    "    r1 = sd.img2repr(img1, pos, 100, output_device='cuda')\n",
    "    r_others = [sd.img2repr(img, pos, 100, output_device='cuda') for img in img_others]\n",
    "    for p in pos:\n",
    "        for i, r2 in enumerate(r_others):\n",
    "            cossims[i][p].append(r1.at(p).cosine_similarity(r2.at(p)).cpu())\n",
    "cossims = [{p: torch.stack(v).mean(0) for p, v in x.items()} for x in cossims]"
   ]
  },
  {
   "cell_type": "code",
   "execution_count": null,
   "metadata": {},
   "outputs": [],
   "source": [
    "# Set DPI and spacing\n",
    "dpi = 200\n",
    "h_spacing = 0.5  # Horizontal spacing between plots in inches\n",
    "v_spacing = 0.2  # Vertical spacing between plots in inches\n",
    "top_spacing = 1.0  # Extra space at the top for suptitle and column labels in inches\n",
    "\n",
    "# Calculate figure size\n",
    "all_res = [res1] + res_others\n",
    "max_width = max(res[0] for res in all_res) / dpi\n",
    "max_height = max(res[1] for res in all_res) / dpi\n",
    "fig_width = sum(res[0] for res in all_res) / dpi + h_spacing * (len(all_res) - 1)\n",
    "fig_height = len(pos) * max_height + v_spacing * (len(pos) - 1) + top_spacing\n",
    "\n",
    "# Create figure\n",
    "fig = plt.figure(figsize=(fig_width, fig_height), dpi=dpi)\n",
    "\n",
    "# Create GridSpec\n",
    "gs = gridspec.GridSpec(len(pos) + 2, len(all_res), \n",
    "                       height_ratios=[top_spacing/2, top_spacing/2] + [max_height] * len(pos),\n",
    "                       width_ratios=[res[0]/dpi for res in all_res],\n",
    "                       hspace=v_spacing/max_height, wspace=h_spacing/max_width)\n",
    "\n",
    "# Add suptitle\n",
    "fig.text(0.5, 1 - top_spacing/(4*fig_height), 'Averaged color transfer based on cosine similarity for an empty image', \n",
    "         fontsize=16, ha='center', va='center')\n",
    "\n",
    "# Add column labels\n",
    "for j, res in enumerate(all_res):\n",
    "    label = f'Reference {res1}' if j == 0 else f'Target {res}'\n",
    "    ax = fig.add_subplot(gs[1, j])\n",
    "    ax.text(0.5, 0.5, label, ha='center', va='center', fontsize=14)\n",
    "    ax.axis('off')\n",
    "\n",
    "for i, p in enumerate(pos):\n",
    "    # Add row labels\n",
    "    ax_row = fig.add_subplot(gs[i+2, :])\n",
    "    ax_row.text(-0.01, 0.5, p, va='center', ha='right', fontsize=12, transform=ax_row.transAxes)\n",
    "    ax_row.axis('off')\n",
    "\n",
    "    for j, res in enumerate(all_res):\n",
    "        ax = fig.add_subplot(gs[i+2, j])\n",
    "\n",
    "        if j == 0:  # Source image\n",
    "            source_shape = cossims[0][p].shape[:2]\n",
    "            source_color = np.zeros((*source_shape, 3))\n",
    "            source_color[:, :, 0] = np.linspace(0, 1, source_shape[0])[:, None]\n",
    "            source_color[:, :, 1] = np.linspace(0, 1, source_shape[1])[None, :]\n",
    "            ax.imshow(source_color, aspect='equal', interpolation='nearest')\n",
    "        else:  # Target images\n",
    "            rows, cols = np.unravel_index(cossims[j-1][p].flatten(end_dim=1).argmax(axis=0), source_shape)\n",
    "            target_color = source_color[rows, cols]\n",
    "            ax.imshow(target_color, aspect='equal', interpolation='nearest')\n",
    "\n",
    "        ax.axis('off')\n",
    "\n",
    "plt.subplots_adjust(top=1, bottom=0, left=0, right=1)\n",
    "plt.show()"
   ]
  },
  {
   "cell_type": "code",
   "execution_count": null,
   "metadata": {},
   "outputs": [],
   "source": []
  }
 ],
 "metadata": {
  "kernelspec": {
   "display_name": "base",
   "language": "python",
   "name": "python3"
  },
  "language_info": {
   "codemirror_mode": {
    "name": "ipython",
    "version": 3
   },
   "file_extension": ".py",
   "mimetype": "text/x-python",
   "name": "python",
   "nbconvert_exporter": "python",
   "pygments_lexer": "ipython3",
   "version": "3.11.6"
  }
 },
 "nbformat": 4,
 "nbformat_minor": 2
}
