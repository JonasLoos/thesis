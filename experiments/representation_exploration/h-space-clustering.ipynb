{
 "cells": [
  {
   "cell_type": "code",
   "execution_count": null,
   "metadata": {},
   "outputs": [],
   "source": [
    "import matplotlib.pyplot as plt\n",
    "from sdhelper import SD\n",
    "from sklearn.cluster import KMeans"
   ]
  },
  {
   "cell_type": "code",
   "execution_count": null,
   "metadata": {},
   "outputs": [],
   "source": [
    "sd = SD('SDXL-Turbo')"
   ]
  },
  {
   "cell_type": "code",
   "execution_count": null,
   "metadata": {},
   "outputs": [],
   "source": [
    "# config\n",
    "prompt = \"tree, van gogh\"\n",
    "num_clusters = [2,3,4,5,10,20]\n",
    "\n",
    "# generate image\n",
    "result = sd(prompt, extract_positions=['mid_block'])\n",
    "hspace = result.representations['mid_block'][-1][0].reshape(1280, -1).T.cpu()\n",
    "hspace_size = result.representations['mid_block'][-1].shape[-1]\n",
    "\n",
    "for i in num_clusters:\n",
    "    kmeans = KMeans(n_clusters=i, random_state=0, n_init='auto').fit(hspace)\n",
    "\n",
    "    # plot\n",
    "    plt.subplot(1, 2, 1)\n",
    "    plt.title(f'prompt: \"{prompt}\"')\n",
    "    plt.imshow(result.result_image)\n",
    "    plt.axis('off')\n",
    "    plt.subplot(1, 2, 2)\n",
    "    plt.title(f'kmeans ({i} clusters)')\n",
    "    plt.imshow(kmeans.labels_.reshape(hspace_size, hspace_size), alpha=1)\n",
    "    plt.axis('off')\n",
    "    plt.show()"
   ]
  }
 ],
 "metadata": {
  "kernelspec": {
   "display_name": "py311",
   "language": "python",
   "name": "python3"
  },
  "language_info": {
   "codemirror_mode": {
    "name": "ipython",
    "version": 3
   },
   "file_extension": ".py",
   "mimetype": "text/x-python",
   "name": "python",
   "nbconvert_exporter": "python",
   "pygments_lexer": "ipython3",
   "version": "3.11.6"
  }
 },
 "nbformat": 4,
 "nbformat_minor": 2
}
