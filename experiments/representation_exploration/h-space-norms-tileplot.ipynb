{
 "cells": [
  {
   "cell_type": "markdown",
   "metadata": {},
   "source": [
    "## Visualize the norm of of the h-space pixels as a 2d grid next to the original image"
   ]
  },
  {
   "cell_type": "code",
   "execution_count": null,
   "metadata": {},
   "outputs": [],
   "source": [
    "import matplotlib.pyplot as plt\n",
    "from sdhelper import SD"
   ]
  },
  {
   "cell_type": "code",
   "execution_count": null,
   "metadata": {},
   "outputs": [],
   "source": [
    "sd = SD('SDXL-Turbo')"
   ]
  },
  {
   "cell_type": "code",
   "execution_count": null,
   "metadata": {},
   "outputs": [],
   "source": [
    "def plot_norms(result, p_norm=2):\n",
    "\n",
    "    # Create a figure and a set of subplots with a wider space for the colorbar.\n",
    "    fig, axs = plt.subplots(1, 2, figsize=(8, 4))\n",
    "\n",
    "    # Plot the original image.\n",
    "    axs[0].set_title(f'\"{result.prompt}\" - {sd.model_name}')\n",
    "    axs[0].imshow(result.result_image)\n",
    "    axs[0].axis('off')\n",
    "\n",
    "    # Plot the L2 norms.\n",
    "    norms = result.representations['mid_block'][-1].norm(p=p_norm, dim=0).detach().cpu().numpy()\n",
    "    im = axs[1].imshow(norms)\n",
    "    axs[1].set_title(f'L{p_norm} Norms (last step)')\n",
    "    axs[1].axis('off')\n",
    "\n",
    "    # Create an axis for the colorbar to the right of the second subplot.\n",
    "    # The values in the list [left, bottom, width, height] control the location and size of the colorbar.\n",
    "    # These values may need to be adjusted to fit the specific size and layout of your subplots.\n",
    "    cbar_ax = fig.add_axes((.96, 0.075, .03, 0.83))\n",
    "\n",
    "    # Create the colorbar in the new axis.\n",
    "    cbar = fig.colorbar(im, cax=cbar_ax)\n",
    "    cbar.set_label(f'L{p_norm} value')\n",
    "\n",
    "    # Use tight_layout with pad to adjust for spacing with the colorbar.\n",
    "    plt.tight_layout(pad=2.0)\n",
    "    plt.show()\n",
    "\n",
    "\n",
    "for i in range(10):\n",
    "    result = sd('An astronaut on the moon', seed=i, extract_positions=['mid_block'])\n",
    "    plot_norms(result, p_norm=2)"
   ]
  }
 ],
 "metadata": {
  "kernelspec": {
   "display_name": "py311",
   "language": "python",
   "name": "python3"
  },
  "language_info": {
   "codemirror_mode": {
    "name": "ipython",
    "version": 3
   },
   "file_extension": ".py",
   "mimetype": "text/x-python",
   "name": "python",
   "nbconvert_exporter": "python",
   "pygments_lexer": "ipython3",
   "version": "3.11.6"
  }
 },
 "nbformat": 4,
 "nbformat_minor": 2
}
