{
 "cells": [
  {
   "cell_type": "code",
   "execution_count": null,
   "metadata": {},
   "outputs": [],
   "source": [
    "import numpy as np\n",
    "import matplotlib.pyplot as plt\n",
    "from sdhelper import SD\n",
    "from tqdm.notebook import tqdm, trange\n",
    "import torch\n",
    "import pickle"
   ]
  },
  {
   "cell_type": "code",
   "execution_count": null,
   "metadata": {},
   "outputs": [],
   "source": [
    "if torch.cuda.is_available():\n",
    "    gpu_name = torch.cuda.get_device_name(0)\n",
    "    print(\"GPU Name:\", gpu_name)\n",
    "else:\n",
    "    print(\"No GPU available.\")"
   ]
  },
  {
   "cell_type": "code",
   "execution_count": null,
   "metadata": {},
   "outputs": [],
   "source": [
    "labels = open('imagenet-labels.txt').readlines()"
   ]
  },
  {
   "cell_type": "code",
   "execution_count": null,
   "metadata": {},
   "outputs": [],
   "source": [
    "# load model\n",
    "sd = SD('SDXL-Turbo', disable_progress_bar=True)"
   ]
  },
  {
   "cell_type": "code",
   "execution_count": null,
   "metadata": {},
   "outputs": [],
   "source": [
    "data = []\n",
    "impact_distribution = np.zeros([16,16, 512,512])\n",
    "for i in trange(1):\n",
    "    prompt = random_label = np.random.choice(labels)\n",
    "    seed = np.random.randint(0, 2**32)\n",
    "    base_img = sd(random_label, steps=1, seed=seed).result_image\n",
    "    impact_image = np.zeros([16,16])\n",
    "    for i, j in tqdm(list(np.ndindex(16,16))):\n",
    "        mask = torch.ones([1,1280,16,16], device=sd.device, dtype=torch.float16)\n",
    "        mask[:,:,i,j] = 0\n",
    "        mod_img = sd(random_label, steps=1, seed=seed, modification=lambda module, input, output, pos: output * mask if pos == 'mid_block' else None).result_image\n",
    "        diff = np.abs(np.array(base_img) - np.array(mod_img))\n",
    "        impact_image[i,j] = diff.mean()\n",
    "        impact_distribution[i,j] += diff\n",
    "    data.append((prompt, seed, base_img, impact_image))"
   ]
  },
  {
   "cell_type": "code",
   "execution_count": null,
   "metadata": {},
   "outputs": [],
   "source": [
    "# save data with pickle\n",
    "# with open('h-space-locality-test.data3.pkl', 'wb') as f:\n",
    "#     pickle.dump(data, f)"
   ]
  },
  {
   "cell_type": "code",
   "execution_count": null,
   "metadata": {},
   "outputs": [],
   "source": [
    "# load data if not defined\n",
    "if 'data' not in locals():\n",
    "    data = pickle.load(open('h-space-locality-test-data2.pkl', 'rb'))\n",
    "    impact_distribution = np.load('h-space-locality-test-impact_distribution2.npy', allow_pickle=True)"
   ]
  },
  {
   "cell_type": "code",
   "execution_count": null,
   "metadata": {},
   "outputs": [],
   "source": [
    "# plot avg data\n",
    "plt.imshow(np.mean([d[3] for d in data], axis=0))\n",
    "plt.colorbar()\n",
    "plt.axis('off')\n",
    "plt.show()"
   ]
  },
  {
   "cell_type": "code",
   "execution_count": null,
   "metadata": {},
   "outputs": [],
   "source": [
    "# plot impact distribution\n",
    "plt.figure(figsize=(10,10))\n",
    "plt.imshow(impact_distribution.transpose(0,2,1,3).reshape(16*512,16*512))\n",
    "# plt.colorbar()\n",
    "plt.axis('off')\n",
    "plt.show()"
   ]
  },
  {
   "cell_type": "code",
   "execution_count": null,
   "metadata": {},
   "outputs": [],
   "source": [
    "# plot histogram like scatter plot\n",
    "\n",
    "def plot_impact_distribution(i, j):\n",
    "    base_pos = (np.array([i,j]) + .5) / 16 * 512\n",
    "    positions = np.array(list(np.ndindex(512,512)))\n",
    "    values = impackt_distribution[i,j].flatten() / 50\n",
    "    distances = ((positions - base_pos[None,:])**2).sum(axis=1)**.5\n",
    "    plt.scatter(distances, values, s=1, alpha=.05)\n",
    "    plt.title(f'Impact distribution for position {i},{j}')\n",
    "    plt.xlabel('Distance from position')\n",
    "    plt.ylabel('Impact')\n",
    "    means = {d: [] for d in sorted(distances)}\n",
    "    for d, v in zip(distances, values):\n",
    "        means[d].append(v)\n",
    "    x = list(means.keys())\n",
    "    y = np.array([np.mean(v) for v in means.values()])\n",
    "    y_cumsum = np.cumsum(y)\n",
    "    y = (y_cumsum[200:] - y_cumsum[:-200]) / 200\n",
    "    x = x[200:]\n",
    "    plt.plot(x, y, label='mean impact', color='red')\n",
    "    plt.show()\n",
    "\n",
    "for i in range(16):\n",
    "    plot_impact_distribution(i,i)"
   ]
  },
  {
   "cell_type": "code",
   "execution_count": null,
   "metadata": {},
   "outputs": [],
   "source": [
    "# plot 50th percentile impact distance compared to uniform distribution\n",
    "def plot_perc_impact_distance2(percentile=.5):\n",
    "    mean_impact_distance = np.zeros([16,16])\n",
    "    mean_impact_distance_res = np.zeros([16,16])\n",
    "    mean_impact_distance_uni = np.zeros([16,16])\n",
    "    for i, j in tqdm(np.ndindex(16,16), total=16*16):\n",
    "        base_pos = (np.array([i,j]) + .5) / 16 * 512\n",
    "        positions = np.array(list(np.ndindex(512,512)))\n",
    "        values = impact_distribution[i,j].flatten() / 50\n",
    "        values /= values.sum()\n",
    "        distances = ((positions - base_pos[None,:])**2).sum(axis=1)**.5\n",
    "        indices = np.argsort(distances)\n",
    "        values_cumsum = np.cumsum(values[indices])\n",
    "        uniform_cumsum = np.cumsum(np.ones_like(values)/values.size)\n",
    "        result_dist = distances[indices][np.argmax(values_cumsum > percentile)]\n",
    "        uniform_dist = distances[indices][np.argmax(uniform_cumsum > percentile)]\n",
    "        mean_impact_distance[i,j] = result_dist - uniform_dist\n",
    "        mean_impact_distance_res[i,j] = result_dist\n",
    "        mean_impact_distance_uni[i,j] = uniform_dist\n",
    "    for x in [mean_impact_distance]:\n",
    "        plt.title(f'{percentile*100}th percentile impact distance')\n",
    "        plt.imshow(x)\n",
    "        plt.colorbar()\n",
    "        plt.axis('off')\n",
    "        plt.show()\n",
    "\n",
    "plot_perc_impact_distance2(.01)\n",
    "plot_perc_impact_distance2(.1)\n",
    "plot_perc_impact_distance2(.5)\n",
    "plot_perc_impact_distance2(.9)"
   ]
  },
  {
   "cell_type": "code",
   "execution_count": null,
   "metadata": {},
   "outputs": [],
   "source": []
  },
  {
   "cell_type": "code",
   "execution_count": null,
   "metadata": {},
   "outputs": [],
   "source": [
    "for prompt, seed, base_img, impact_image in data:\n",
    "    # plot\n",
    "    plt.subplot(1,2,1)\n",
    "    plt.title(f'\"{prompt}\"')\n",
    "    plt.imshow(base_img)\n",
    "    plt.axis('off')\n",
    "    plt.subplot(1,2,2)\n",
    "    plt.title('masking impact')\n",
    "    plt.imshow(impact_image)\n",
    "    plt.axis('off')\n",
    "    # plt.colorbar()\n",
    "    plt.tight_layout()\n",
    "    plt.show()"
   ]
  }
 ],
 "metadata": {
  "kernelspec": {
   "display_name": "Python 3 (ipykernel)",
   "language": "python",
   "name": "python3"
  },
  "language_info": {
   "codemirror_mode": {
    "name": "ipython",
    "version": 3
   },
   "file_extension": ".py",
   "mimetype": "text/x-python",
   "name": "python",
   "nbconvert_exporter": "python",
   "pygments_lexer": "ipython3",
   "version": "3.11.6"
  }
 },
 "nbformat": 4,
 "nbformat_minor": 2
}
