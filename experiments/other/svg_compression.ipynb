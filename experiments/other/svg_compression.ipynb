{
 "cells": [
  {
   "cell_type": "code",
   "execution_count": 13,
   "metadata": {},
   "outputs": [],
   "source": [
    "import base64\n",
    "from xml.etree import ElementTree as ET\n",
    "from io import BytesIO\n",
    "from PIL import Image\n",
    "from IPython.display import SVG, display\n",
    "from pathlib import Path"
   ]
  },
  {
   "cell_type": "code",
   "execution_count": null,
   "metadata": {},
   "outputs": [],
   "source": [
    "def compress_svg_images(svg_input_path, quality=85):\n",
    "    ET.register_namespace('', 'http://www.w3.org/2000/svg')\n",
    "    ET.register_namespace('xlink', 'http://www.w3.org/1999/xlink')\n",
    "    tree = ET.parse(svg_input_path)\n",
    "    root = tree.getroot()\n",
    "\n",
    "    for elem in root.findall('.//{http://www.w3.org/2000/svg}image'):\n",
    "        href = elem.get('{http://www.w3.org/1999/xlink}href')\n",
    "        if href and href.startswith('data:image'):\n",
    "            _, b64data = href.split(',', 1)\n",
    "            raw_data = base64.b64decode(b64data)\n",
    "\n",
    "            with BytesIO(raw_data) as img_io:\n",
    "                img = Image.open(img_io).convert('RGB')\n",
    "                # Check if image has alpha channel (RGBA)\n",
    "                if img.mode == 'RGBA':\n",
    "                    print(\"Warning: Image contains alpha channel\")\n",
    "                    # Get alpha channel data\n",
    "                    alpha = img.getchannel('A')\n",
    "                    # Check if alpha channel contains any transparency\n",
    "                    if alpha.getextrema()[0] < 255:\n",
    "                        print(\"Warning: Image contains transparency that will be lost in JPEG conversion\")\n",
    "                compressed_io = BytesIO()\n",
    "                img.save(compressed_io, format='JPEG', quality=quality)\n",
    "            \n",
    "            new_data = base64.b64encode(compressed_io.getvalue()).decode()\n",
    "            # print(f'size reduced from {len(raw_data)} to {len(new_data)}')\n",
    "            if len(new_data) < len(raw_data) * 0.9 - 10_000:\n",
    "                print(f'-> compressing image - saving {len(raw_data) - len(new_data)} bytes')\n",
    "                elem.set('{http://www.w3.org/1999/xlink}href', f'data:image/jpeg;base64,{new_data}')\n",
    "    output = BytesIO()\n",
    "    tree.write(output, encoding='utf-8', xml_declaration=True)\n",
    "    return output.getvalue().decode('utf-8')\n",
    "\n",
    "\n",
    "base_path = Path('thesis/assets/cached_plots/')\n",
    "for svg_input_path in base_path.glob('*.svg'):\n",
    "    svg_file = open(svg_input_path, 'r').read()\n",
    "    # display(SVG(svg_file))\n",
    "    print(f'original size: {len(svg_file)}')\n",
    "    svg_file_compressed = compress_svg_images(svg_input_path)\n",
    "    print(f'compressed size: {len(svg_file_compressed)}')\n",
    "    display(SVG(svg_file_compressed))"
   ]
  }
 ],
 "metadata": {
  "kernelspec": {
   "display_name": "py311",
   "language": "python",
   "name": "python3"
  },
  "language_info": {
   "codemirror_mode": {
    "name": "ipython",
    "version": 3
   },
   "file_extension": ".py",
   "mimetype": "text/x-python",
   "name": "python",
   "nbconvert_exporter": "python",
   "pygments_lexer": "ipython3",
   "version": "3.11.6"
  }
 },
 "nbformat": 4,
 "nbformat_minor": 2
}
