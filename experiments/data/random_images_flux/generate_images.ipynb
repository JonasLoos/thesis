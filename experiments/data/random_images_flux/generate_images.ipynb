{
 "cells": [
  {
   "cell_type": "markdown",
   "metadata": {},
   "source": [
    "# Generate an image dataset with Flux"
   ]
  },
  {
   "cell_type": "code",
   "execution_count": null,
   "metadata": {},
   "outputs": [],
   "source": [
    "from sdhelper import SD\n",
    "from pathlib import Path\n",
    "from tqdm.auto import trange"
   ]
  },
  {
   "cell_type": "code",
   "execution_count": null,
   "metadata": {},
   "outputs": [],
   "source": [
    "flux = SD('flux-schnell', disable_progress_bar=True)\n",
    "flux.quantize(['transformer', 'text_encoder_2'], model_cpu_offload=True)"
   ]
  },
  {
   "cell_type": "code",
   "execution_count": null,
   "metadata": {},
   "outputs": [],
   "source": [
    "prompts = [\n",
    "    'a beautiful landscape with a river and a mountain',\n",
    "    'a dark and stormy night',\n",
    "    'a cozy cabin in the woods',\n",
    "    'a bustling city street at night',\n",
    "    'a serene beach with palm trees',\n",
    "    'a snowy mountain landscape',\n",
    "    'a lush green forest',\n",
    "    'a desert with cacti',\n",
    "    'a starry sky over a city',\n",
    "    'a cat sitting on a windowsill',\n",
    "    'a dog playing in the snow',\n",
    "    'a panda eating bamboo',\n",
    "    'a zebra in a savannah',\n",
    "    'a penguin in an icy landscape',\n",
    "    'a flamingo in a salt lake',\n",
    "    'a whale in the ocean',\n",
    "    'a dolphin in a coral reef',\n",
    "    'a butterfly on a flower',\n",
    "    'a cat with a monocle',\n",
    "    'an alligator in a swamp',\n",
    "    'a cow in a field',\n",
    "    'a chicken on a fence',\n",
    "    'a lion on a roof',\n",
    "    'a busy street with people',\n",
    "    'a library with old books',\n",
    "    'a classroom with students',\n",
    "    'a laboratory with scientists',\n",
    "]\n",
    "num_images = 400\n",
    "img_path = Path('.')\n",
    "\n",
    "\n",
    "get_imgs = lambda: len(list(img_path.glob('*.jpg')))\n",
    "if get_imgs() < num_images:\n",
    "    for i in trange(num_images-get_imgs(), desc='generating images'):\n",
    "        image = flux(\n",
    "            prompts[get_imgs()%len(prompts)],\n",
    "            width=512,\n",
    "            height=512,\n",
    "            seed=i,\n",
    "        ).result_image\n",
    "        image.save(f'{img_path}/{get_imgs():04d}.jpg')\n",
    "else:\n",
    "    print(f'{num_images} images already generated')"
   ]
  }
 ],
 "metadata": {
  "kernelspec": {
   "display_name": "py311",
   "language": "python",
   "name": "python3"
  },
  "language_info": {
   "codemirror_mode": {
    "name": "ipython",
    "version": 3
   },
   "file_extension": ".py",
   "mimetype": "text/x-python",
   "name": "python",
   "nbconvert_exporter": "python",
   "pygments_lexer": "ipython3",
   "version": "3.11.6"
  }
 },
 "nbformat": 4,
 "nbformat_minor": 2
}
