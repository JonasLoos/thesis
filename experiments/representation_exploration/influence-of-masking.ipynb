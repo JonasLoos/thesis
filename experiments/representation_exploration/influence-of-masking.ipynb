{
 "cells": [
  {
   "cell_type": "markdown",
   "metadata": {},
   "source": [
    "# Check influence of masking certain regions in h-space"
   ]
  },
  {
   "cell_type": "code",
   "execution_count": null,
   "metadata": {},
   "outputs": [],
   "source": [
    "import torch\n",
    "import numpy as np\n",
    "import matplotlib.pyplot as plt\n",
    "from sdhelper import SD\n",
    "\n",
    "sd = SD('SDXL-Turbo')"
   ]
  },
  {
   "cell_type": "code",
   "execution_count": null,
   "metadata": {},
   "outputs": [],
   "source": [
    "# config\n",
    "prompt = \"a photo of a cat\"\n",
    "seed = 42"
   ]
  },
  {
   "cell_type": "code",
   "execution_count": null,
   "metadata": {},
   "outputs": [],
   "source": [
    "# base image\n",
    "base_result = sd(prompt, seed=seed)\n",
    "base_result.result_image"
   ]
  },
  {
   "cell_type": "code",
   "execution_count": null,
   "metadata": {},
   "outputs": [],
   "source": [
    "# modified image\n",
    "def show_modification(mask: torch.Tensor):\n",
    "    # plot base\n",
    "    plt.figure(figsize=(15, 5))\n",
    "    plt.subplot(1, 4, 1)\n",
    "    plt.title('Base')\n",
    "    plt.imshow(base_result.result_image)\n",
    "    plt.axis('off')\n",
    "\n",
    "    # setup mask application function\n",
    "    mask = mask.to(sd.device, dtype=torch.float16)\n",
    "    def mod_fn(module, input, output, pos, mask=mask):\n",
    "        # only modify the mid_block\n",
    "        if pos != 'mid_block': return None\n",
    "        # resize mask to match output\n",
    "        while mask.shape[-1] < output.shape[-1]:\n",
    "            mask = mask.repeat_interleave(2, 0).repeat_interleave(2, 1)\n",
    "        while mask.shape[-1] > output.shape[-1]:\n",
    "            mask = torch.logical_or(torch.logical_or(mask[::2, ::2], mask[1::2, ::2]), torch.logical_or(mask[::2, 1::2], mask[1::2, 1::2]))\n",
    "        while len(mask.shape) < len(output.shape):\n",
    "            mask = mask.unsqueeze(0)\n",
    "        # apply mask\n",
    "        return output * (mask)\n",
    "\n",
    "    # plot modified\n",
    "    modified_result = sd(prompt, seed=seed, modification=mod_fn)\n",
    "    plt.subplot(1, 4, 2)\n",
    "    plt.title('Modified')\n",
    "    plt.imshow(modified_result.result_image)\n",
    "    plt.axis('off')\n",
    "\n",
    "    # plot difference\n",
    "    diff = (np.array(modified_result.result_image) - np.array(base_result.result_image)) / 2\n",
    "    diff += 128\n",
    "    diff = diff.clip(0, 255).astype(np.uint8)\n",
    "    plt.subplot(1, 4, 3)\n",
    "    plt.title('Difference')\n",
    "    plt.imshow(diff)\n",
    "    plt.axis('off')\n",
    "\n",
    "    # plot mask\n",
    "    plt.subplot(1, 4, 4)\n",
    "    plt.title('Mask')\n",
    "    plt.imshow(mask.cpu().numpy())\n",
    "    plt.show()"
   ]
  },
  {
   "cell_type": "code",
   "execution_count": null,
   "metadata": {},
   "outputs": [],
   "source": [
    "mask = torch.zeros([16,16])\n",
    "mask[1:15,1:15] = 1\n",
    "show_modification(mask)"
   ]
  },
  {
   "cell_type": "code",
   "execution_count": null,
   "metadata": {},
   "outputs": [],
   "source": [
    "mask = torch.ones([16,16])\n",
    "mask[1:15,1:15] = 0\n",
    "show_modification(mask)"
   ]
  },
  {
   "cell_type": "code",
   "execution_count": null,
   "metadata": {},
   "outputs": [],
   "source": [
    "mask = torch.zeros([16,16])\n",
    "mask[1:15,1:15] = 1\n",
    "mask[2:14,2:14] = 0\n",
    "show_modification(mask)"
   ]
  },
  {
   "cell_type": "code",
   "execution_count": null,
   "metadata": {},
   "outputs": [],
   "source": [
    "mask = torch.zeros([16,16])\n",
    "mask[1:15,1:15] = 1\n",
    "mask[2:14,2:14] = 0\n",
    "mask[3:13,3:13] = 1\n",
    "mask[4:12,4:12] = 0\n",
    "mask[5:11,5:11] = 1\n",
    "mask[6:10,6:10] = 0\n",
    "show_modification(mask)"
   ]
  },
  {
   "cell_type": "code",
   "execution_count": null,
   "metadata": {},
   "outputs": [],
   "source": [
    "mask = torch.zeros([16,16])\n",
    "show_modification(mask)"
   ]
  }
 ],
 "metadata": {
  "kernelspec": {
   "display_name": "py311",
   "language": "python",
   "name": "python3"
  },
  "language_info": {
   "codemirror_mode": {
    "name": "ipython",
    "version": 3
   },
   "file_extension": ".py",
   "mimetype": "text/x-python",
   "name": "python",
   "nbconvert_exporter": "python",
   "pygments_lexer": "ipython3",
   "version": "3.11.6"
  }
 },
 "nbformat": 4,
 "nbformat_minor": 2
}
