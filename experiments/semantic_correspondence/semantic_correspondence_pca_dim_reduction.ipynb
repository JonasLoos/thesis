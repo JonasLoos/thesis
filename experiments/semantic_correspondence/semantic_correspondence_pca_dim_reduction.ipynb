{
 "cells": [
  {
   "cell_type": "markdown",
   "metadata": {},
   "source": [
    "# Semantic Correspondence\n",
    "\n",
    "Simple semantic correspondence with visualisations based on metadata"
   ]
  },
  {
   "cell_type": "markdown",
   "metadata": {},
   "source": [
    "## Setup"
   ]
  },
  {
   "cell_type": "code",
   "execution_count": null,
   "metadata": {},
   "outputs": [],
   "source": [
    "from sdhelper import SD\n",
    "import torch\n",
    "import numpy as np\n",
    "import datasets\n",
    "from tqdm.autonotebook import tqdm, trange\n",
    "from matplotlib import pyplot as plt\n",
    "import PIL.Image\n",
    "from typing import Callable"
   ]
  },
  {
   "cell_type": "code",
   "execution_count": null,
   "metadata": {},
   "outputs": [],
   "source": [
    "sd = SD('SD2.1')\n",
    "data = datasets.load_dataset('0jl/SPair-71k', 'data', split='train', trust_remote_code=True)\n",
    "pairs = datasets.load_dataset('0jl/SPair-71k', 'pairs', split='test', trust_remote_code=True)"
   ]
  },
  {
   "cell_type": "code",
   "execution_count": null,
   "metadata": {},
   "outputs": [],
   "source": [
    "metadata_keys = ['src_bndbox','trg_bndbox','category','viewpoint_variation','scale_variation',]\n",
    "metadata = [{'src_kp': src_kp, 'trg_kp': trg_kp} | {k: pair[k] for k in metadata_keys} for pair in tqdm(pairs) for src_kp, trg_kp in zip(pair['src_kps'], pair['trg_kps'])]"
   ]
  },
  {
   "cell_type": "markdown",
   "metadata": {},
   "source": [
    "## Calculate semantic correspondence"
   ]
  },
  {
   "cell_type": "code",
   "execution_count": null,
   "metadata": {},
   "outputs": [],
   "source": [
    "def compute_pca_basis(data, n_components):\n",
    "    # Center the data\n",
    "    data_mean = torch.mean(data, dim=0)\n",
    "    data_centered = data - data_mean\n",
    "\n",
    "    # Compute covariance matrix\n",
    "    covariance_matrix = torch.mm(data_centered.T, data_centered) / (data_centered.size(0) - 1)\n",
    "\n",
    "    # Compute eigenvalues and eigenvectors using torch.linalg.eigh\n",
    "    eigenvalues, eigenvectors = torch.linalg.eigh(covariance_matrix)\n",
    "\n",
    "    # Sort eigenvalues and eigenvectors in descending order\n",
    "    sorted_indices = torch.argsort(eigenvalues, descending=True)\n",
    "    sorted_eigenvectors = eigenvectors[:, sorted_indices]\n",
    "\n",
    "    # Select the top n_components\n",
    "    pca_basis = sorted_eigenvectors[:, :n_components]\n",
    "\n",
    "    return pca_basis, data_mean\n",
    "\n",
    "def transform_data(data, pca_basis, data_mean):\n",
    "    data_centered = data - data_mean\n",
    "    transformed_data = torch.mm(data_centered, pca_basis)\n",
    "    return transformed_data\n"
   ]
  },
  {
   "cell_type": "code",
   "execution_count": null,
   "metadata": {},
   "outputs": [],
   "source": [
    "def sc(transform_img: Callable = lambda x: x, n_components=500):\n",
    "    # precalculate representations\n",
    "    representations = []\n",
    "    for x in tqdm(data, desc='Calculating representations'):\n",
    "        r = sd.img2repr(transform_img(x['img']), ['up_blocks[0]','up_blocks[1].attentions[2]'], 100, prompt=x['name'].split('/')[0])\n",
    "        r = r.apply(lambda x: x / torch.norm(x, dim=0, keepdim=True))  # normalize\n",
    "        r = r.concat().float()\n",
    "        representations.append(r)\n",
    "\n",
    "    # pca transform\n",
    "    print('calculating PCA basis')\n",
    "    num_features = representations[0].shape[0]\n",
    "    pca_basis, data_mean = compute_pca_basis(torch.cat([r.view((num_features,-1)) for r in representations], dim=1).T, n_components)\n",
    "    print('transforming representations with PCA')\n",
    "    representations_pca = [transform_data(r.view((num_features,-1)).T, pca_basis, data_mean).T.reshape((-1,*r.shape[1:])) for r in representations]\n",
    "\n",
    "    # calculate percentage of correct keypoints at 10% of the bounding box (PCK@0.1_bbox)\n",
    "    correct = []\n",
    "    for x in (t:=tqdm(pairs, desc='Calculating SC')):\n",
    "        a = representations_pca[x['src_data_index']]\n",
    "        b = representations_pca[x['trg_data_index']]\n",
    "        tbb_max = max(x['trg_bndbox'][2] - x['trg_bndbox'][0], x['trg_bndbox'][3] - x['trg_bndbox'][1])\n",
    "        for ([sx, sy],[tx,ty]) in zip(x['src_kps'], x['trg_kps']):\n",
    "            src_repr = a[:, sy*a.shape[1]//x['src_img'].size[1], sx*a.shape[2]//x['src_img'].size[0]]\n",
    "            cossim = (b * src_repr[:,None,None]).sum(dim=0)\n",
    "            y_max, x_max = np.unravel_index(cossim.argmax().cpu(), cossim.shape)\n",
    "            x_max_pixel = x_max * x['trg_img'].size[0] / b.shape[2]\n",
    "            y_max_pixel = y_max * x['trg_img'].size[1] / b.shape[1]\n",
    "            relative_distance = ((x_max_pixel - tx)**2 + (y_max_pixel - ty)**2) ** 0.5 / tbb_max\n",
    "            correct.append(relative_distance < 0.1)\n",
    "        if len(correct) % 100 == 0:\n",
    "            t.set_postfix(pck=np.mean(correct)*100)\n",
    "\n",
    "    return correct\n",
    "\n",
    "correct = sc(lambda img: img.resize(np.array(img.size) * 768 // max(img.size)), 256)"
   ]
  },
  {
   "cell_type": "code",
   "execution_count": null,
   "metadata": {},
   "outputs": [],
   "source": [
    "np.mean(correct)*100"
   ]
  },
  {
   "cell_type": "markdown",
   "metadata": {},
   "source": [
    "## Visualise semantic correspondence"
   ]
  },
  {
   "cell_type": "code",
   "execution_count": null,
   "metadata": {},
   "outputs": [],
   "source": [
    "# plot PCK over category\n",
    "def plot_pck_over_category(correct, metadata):\n",
    "    categories = list(set(x['category'] for x in metadata))\n",
    "    bins = [[] for _ in categories]\n",
    "    for category, c in zip([x['category'] for x in metadata], correct):\n",
    "        bins[categories.index(category)].append(c)\n",
    "    pcks = [np.mean(b)*100 for b in bins]\n",
    "    plt.figure()\n",
    "    plt.bar(range(len(categories)), pcks)\n",
    "    plt.xticks(range(len(categories)), pairs.features['category'].names, rotation=90)\n",
    "    for i, pck in enumerate(pcks):\n",
    "        plt.text(i, pck, f'{pck:.2f}', ha='center', va='bottom', fontsize=8)\n",
    "        plt.text(i+0.07, 3, f'{len(bins[i])}', ha='center', va='bottom', rotation=90, color='white', fontsize=8)\n",
    "    plt.xlabel('Category')\n",
    "    plt.ylabel('PCK@$0.1_{bbox}$')\n",
    "    plt.title('PCK@$0.1_{bbox}$ over category')\n",
    "    plt.show()\n",
    "\n",
    "plot_pck_over_category(correct, metadata)"
   ]
  },
  {
   "cell_type": "code",
   "execution_count": null,
   "metadata": {},
   "outputs": [],
   "source": [
    "# plot PCK over viewpoint variation\n",
    "def plot_pck_over_viewpoint_variation(correct, metadata):\n",
    "    bins = [[], [], []]\n",
    "    for viewpoint_variation, c in zip([x['viewpoint_variation'] for x in metadata], correct):\n",
    "        bins[viewpoint_variation].append(c)\n",
    "    pcks = [np.mean(b)*100 for b in bins]\n",
    "    plt.figure()\n",
    "    plt.bar(range(3), pcks)\n",
    "    plt.xticks(range(3), ['low', 'medium', 'high'])\n",
    "    for i, pck in enumerate(pcks):\n",
    "        plt.text(i, pck, f'{pck:.2f}', ha='center', va='bottom')\n",
    "        plt.text(i, 3, f'{len(bins[i])}', ha='center', va='bottom', rotation=90, color='white')\n",
    "    plt.xlabel('Viewpoint variation')\n",
    "    plt.ylabel('PCK@$0.1_{bbox}$')\n",
    "    plt.title('PCK@$0.1_{bbox}$ over viewpoint variation')\n",
    "    plt.show()\n",
    "\n",
    "plot_pck_over_viewpoint_variation(correct, metadata)"
   ]
  },
  {
   "cell_type": "code",
   "execution_count": null,
   "metadata": {},
   "outputs": [],
   "source": [
    "# plot PCK over bounding box scale variation\n",
    "def plot_pck_over_scale_variation(correct, metadata):\n",
    "    bins = [[], [], []]\n",
    "    for scale_variation, c in zip([x['scale_variation'] for x in metadata], correct):\n",
    "        bins[scale_variation].append(c)\n",
    "    pcks = [np.mean(b)*100 for b in bins]\n",
    "    plt.figure()\n",
    "    plt.bar(range(3), pcks)\n",
    "    plt.xticks(range(3), ['low', 'medium', 'high'])\n",
    "    for i, pck in enumerate(pcks):\n",
    "        plt.text(i, pck, f'{pck:.2f}', ha='center', va='bottom')\n",
    "        plt.text(i, 3, f'{len(bins[i])}', ha='center', va='bottom', rotation=90, color='white')\n",
    "    plt.xlabel('Scale variation')\n",
    "    plt.ylabel('PCK@$0.1_{bbox}$')\n",
    "    plt.title('PCK@$0.1_{bbox}$ over scale variation')\n",
    "    plt.show()\n",
    "\n",
    "plot_pck_over_scale_variation(correct, metadata)"
   ]
  },
  {
   "cell_type": "code",
   "execution_count": null,
   "metadata": {},
   "outputs": [],
   "source": [
    "# plot PCK over src and trg bounding box size\n",
    "def plot_pck_over_bbox_size(correct, metadata):\n",
    "    src_shapes = np.array([x['src_bndbox'] for x in metadata])\n",
    "    src_sizes = (src_shapes[:,2] - src_shapes[:,0]) * (src_shapes[:,3] - src_shapes[:,1])\n",
    "    trg_shapes = np.array([x['trg_bndbox'] for x in metadata])\n",
    "    trg_sizes = (trg_shapes[:,2] - trg_shapes[:,0]) * (trg_shapes[:,3] - trg_shapes[:,1])\n",
    "    for name, sizes in [('src', src_sizes), ('trg', trg_sizes)]:\n",
    "        bins = [[] for _ in range(10)]\n",
    "        min_size = sizes.min() ** .5  # sqrt for more useful bins (relative to side length instead of area)\n",
    "        max_size = sizes.max() ** .5 + 1\n",
    "        for size, c in zip(sizes, correct):\n",
    "            idx = int((size**.5 - min_size) / (max_size - min_size) * 10)\n",
    "            bins[idx].append(c)\n",
    "        pcks = [np.mean(b)*100 for b in bins]\n",
    "        plt.figure()\n",
    "        plt.bar(range(10), pcks)\n",
    "        plt.xticks(range(10), [f'{(min_size + i*(max_size - min_size)/10)**2/1000:.0f}k-{(min_size + (i+1)*(max_size - min_size)/10)**2/1000:.0f}k px' for i in range(10)], rotation=45)\n",
    "        for i, pck in enumerate(pcks):\n",
    "            plt.text(i, pck, f'{pck:.2f}', ha='center', va='bottom')\n",
    "            plt.text(i, 3, f'{len(bins[i])}', ha='center', va='bottom', rotation=90, color='white')\n",
    "        plt.xlabel(f'{name} bounding box size')\n",
    "        plt.ylabel('PCK@$0.1_{bbox}$')\n",
    "        plt.title(f'PCK@$0.1_{{bbox}}$ over {name} bounding box size')\n",
    "        plt.show()\n",
    "\n",
    "plot_pck_over_bbox_size(correct, metadata)"
   ]
  },
  {
   "cell_type": "code",
   "execution_count": null,
   "metadata": {},
   "outputs": [],
   "source": [
    "# plot PCK over difference in bounding box sizes\n",
    "def plot_pck_over_bbox_size_diff(correct, metadata):\n",
    "    src_shapes = np.array([x['src_bndbox'] for x in metadata])\n",
    "    src_sizes = (src_shapes[:,2] - src_shapes[:,0]) * (src_shapes[:,3] - src_shapes[:,1])\n",
    "    trg_shapes = np.array([x['trg_bndbox'] for x in metadata])\n",
    "    trg_sizes = (trg_shapes[:,2] - trg_shapes[:,0]) * (trg_shapes[:,3] - trg_shapes[:,1])\n",
    "    diffs = np.abs(src_sizes - trg_sizes)\n",
    "    bins = [[] for _ in range(10)]\n",
    "    min_size = diffs.min() ** .5  # sqrt for more useful bins (relative to side length instead of area)\n",
    "    max_size = diffs.max() ** .5 + 1\n",
    "    for size, c in zip(diffs, correct):\n",
    "        idx = int((size**.5 - min_size) / (max_size - min_size) * 10)\n",
    "        bins[idx].append(c)\n",
    "    pcks = [np.mean(b)*100 for b in bins]\n",
    "    plt.figure()\n",
    "    plt.bar(range(10), pcks)\n",
    "    plt.xticks(range(10), [f'{(min_size + i*(max_size - min_size)/10)**2/1000:.0f}k-{(min_size + (i+1)*(max_size - min_size)/10)**2/1000:.0f}k px' for i in range(10)], rotation=45)\n",
    "    for i, pck in enumerate(pcks):\n",
    "        plt.text(i, pck, f'{pck:.2f}', ha='center', va='bottom')\n",
    "        plt.text(i, 3, f'{len(bins[i])}', ha='center', va='bottom', rotation=90, color='white')\n",
    "    plt.xlabel('Difference in bounding box sizes')\n",
    "    plt.ylabel('PCK@$0.1_{bbox}$')\n",
    "    plt.title('PCK@$0.1_{bbox}$ over difference in bounding box sizes')\n",
    "    plt.show()\n",
    "\n",
    "plot_pck_over_bbox_size_diff(correct, metadata)"
   ]
  },
  {
   "cell_type": "code",
   "execution_count": null,
   "metadata": {},
   "outputs": [],
   "source": [
    "# plot PCK over bouding box aspect ratio\n",
    "def plot_pck_over_bbox_aspect_ratio(correct, metadata):\n",
    "    src_shapes = np.array([x['src_bndbox'] for x in metadata])\n",
    "    src_ratios = (src_shapes[:,2] - src_shapes[:,0]) / (src_shapes[:,3] - src_shapes[:,1])\n",
    "    trg_shapes = np.array([x['trg_bndbox'] for x in metadata])\n",
    "    trg_ratios = (trg_shapes[:,2] - trg_shapes[:,0]) / (trg_shapes[:,3] - trg_shapes[:,1])\n",
    "    for name, ratios in [('src', src_ratios), ('trg', trg_ratios)]:\n",
    "        bin_names = ['< 1:4', '1:4 - 1:2', '1:2 - 1:1', '1:1 - 2:1', '2:1 - 4:1', '> 4:1']\n",
    "        bins = [[] for _ in bin_names]\n",
    "        min_ratio = ratios.min()\n",
    "        max_ratio = ratios.max()+1\n",
    "        for ratio, c in zip(ratios, correct):\n",
    "            idx = int(np.log2(ratio) + 2)\n",
    "            if idx < 0: idx = 0\n",
    "            if idx >= len(bins): idx = len(bins)-1\n",
    "            bins[idx].append(c)\n",
    "        pcks = [np.mean(b)*100 for b in bins]\n",
    "        plt.figure()\n",
    "        plt.bar(range(len(bin_names)), pcks)\n",
    "        plt.xticks(range(len(bin_names)), bin_names, rotation=45)\n",
    "        for i, pck in enumerate(pcks):\n",
    "            plt.text(i, pck, f'{pck:.2f}', ha='center', va='bottom')\n",
    "            plt.text(i, 3, f'{len(bins[i])}', ha='center', va='bottom', rotation=90, color='white')\n",
    "        plt.xlabel(f'{name} bounding box aspect ratio')\n",
    "        plt.ylabel('PCK@$0.1_{bbox}$')\n",
    "        plt.title(f'PCK@$0.1_{{bbox}}$ over {name} bounding box aspect ratio')\n",
    "        plt.show()\n",
    "\n",
    "plot_pck_over_bbox_aspect_ratio(correct, metadata)"
   ]
  },
  {
   "cell_type": "code",
   "execution_count": null,
   "metadata": {},
   "outputs": [],
   "source": [
    "# plot PCK over src and trg keypoint positions\n",
    "def plot_pck_over_kp_position(correct, metadata, scale_factor=2):\n",
    "    src_kps = np.array([x['src_kp'] for x in metadata])\n",
    "    trg_kps = np.array([x['trg_kp'] for x in metadata])\n",
    "    for name, kps in [('src', src_kps), ('trg', trg_kps)]:\n",
    "        min_x = kps[:,0].min() // scale_factor\n",
    "        max_x = kps[:,0].max() // scale_factor\n",
    "        min_y = kps[:,1].min() // scale_factor\n",
    "        max_y = kps[:,1].max() // scale_factor\n",
    "        matrix = np.zeros((max_y - min_y + 1, max_x - min_x + 1, 2))\n",
    "        for (x, y), c in zip(kps, correct):\n",
    "            matrix[y//scale_factor-min_y, x//scale_factor-min_x, :] += c, 1\n",
    "        pck_matrix = matrix[:,:,0] / matrix[:,:,1]\n",
    "\n",
    "        # plot count\n",
    "        plt.figure()\n",
    "        plt.imshow(matrix[:,:,1], cmap='viridis', interpolation='nearest')\n",
    "        plt.colorbar()\n",
    "        plt.xlabel(f'{name} keypoint x')\n",
    "        plt.ylabel(f'{name} keypoint y')\n",
    "        plt.title(f'Count of keypoints over {name} keypoint position')\n",
    "        plt.show()\n",
    "\n",
    "        # plot pck matrix\n",
    "        plt.figure()\n",
    "        plt.imshow(pck_matrix, cmap='viridis', interpolation='nearest', vmin=0, vmax=1)\n",
    "        plt.colorbar()\n",
    "        plt.xlabel(f'{name} keypoint x')\n",
    "        plt.ylabel(f'{name} keypoint y')\n",
    "        plt.title(f'PCK@$0.1_{{bbox}}$ over {name} keypoint position')\n",
    "        plt.show()\n",
    "\n",
    "plot_pck_over_kp_position(correct, metadata, 20)"
   ]
  },
  {
   "cell_type": "code",
   "execution_count": null,
   "metadata": {},
   "outputs": [],
   "source": [
    "# plot PCK over src and trg keypoint positions\n",
    "# might be useful to see if certain pixels in the regions are ignored\n",
    "def plot_pck_over_kp_position(correct, metadata, size=32):\n",
    "    src_kps = np.array([x['src_kp'] for x in metadata])\n",
    "    trg_kps = np.array([x['trg_kp'] for x in metadata])\n",
    "    for name, kps in [('src', src_kps), ('trg', trg_kps)]:\n",
    "        matrix = np.zeros((size, size, 2))\n",
    "        for (x, y), c in zip(kps, correct):\n",
    "            matrix[y%size, x%size, :] += c, 1\n",
    "        pck_matrix = matrix[:,:,0] / matrix[:,:,1]\n",
    "        plt.figure()\n",
    "        plt.imshow(pck_matrix, cmap='viridis', interpolation='nearest', vmin=0, vmax=1)\n",
    "        plt.colorbar()\n",
    "        plt.xlabel(f'{name} keypoint x (mod {size})')\n",
    "        plt.ylabel(f'{name} keypoint y (mod {size})')\n",
    "        plt.title(f'PCK@$0.1_{{bbox}}$ over {name} keypoint position')\n",
    "        plt.show()\n",
    "\n",
    "plot_pck_over_kp_position(correct, metadata, 16)"
   ]
  }
 ],
 "metadata": {
  "kernelspec": {
   "display_name": "py311",
   "language": "python",
   "name": "python3"
  },
  "language_info": {
   "codemirror_mode": {
    "name": "ipython",
    "version": 3
   },
   "file_extension": ".py",
   "mimetype": "text/x-python",
   "name": "python",
   "nbconvert_exporter": "python",
   "pygments_lexer": "ipython3",
   "version": "3.11.6"
  }
 },
 "nbformat": 4,
 "nbformat_minor": 2
}
