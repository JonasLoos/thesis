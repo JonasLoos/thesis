{
 "cells": [
  {
   "cell_type": "markdown",
   "metadata": {},
   "source": [
    "# Representation Classifier\n",
    "\n",
    "dataset: `imagenet-1k`\n",
    "\n",
    "1 model based on AvgPool2d + Linear or 1x1 Conv2d + Pooling"
   ]
  },
  {
   "cell_type": "code",
   "execution_count": null,
   "metadata": {},
   "outputs": [],
   "source": [
    "from datasets import load_from_disk\n",
    "import torch\n",
    "from torch import nn, optim\n",
    "from torch.utils.data import DataLoader\n",
    "from tqdm.notebook import tqdm\n",
    "from trainplot import plot, TrainPlot\n",
    "from trainplot.trainplot import TrainPlotPlotlyExperimental"
   ]
  },
  {
   "cell_type": "code",
   "execution_count": null,
   "metadata": {},
   "outputs": [],
   "source": [
    "# Load the dataset\n",
    "dataset = load_from_disk(\"...\").with_format(\"torch\")\n",
    "train_loader = DataLoader(dataset['train'], batch_size=32, shuffle=True)\n",
    "test_loader = DataLoader(dataset['test'], batch_size=32, shuffle=False)"
   ]
  },
  {
   "cell_type": "code",
   "execution_count": null,
   "metadata": {},
   "outputs": [],
   "source": [
    "class SimpleClassifier(nn.Module):\n",
    "    def __init__(self, channel_size=1280, spatial_size=8, num_classes=1000):\n",
    "        super().__init__()\n",
    "        self.fc = nn.Linear(channel_size, num_classes)\n",
    "        self.pool = nn.AvgPool2d(spatial_size)\n",
    "\n",
    "    def forward(self, x):\n",
    "        x = torch.flatten(self.pool(x), start_dim=1)\n",
    "        x = self.fc(x)\n",
    "        return x\n",
    "\n",
    "\n",
    "class SimpleCNNClassifier(nn.Module):\n",
    "    def __init__(self, channel_size=1280, spatial_size=8, num_classes=1000):\n",
    "        super().__init__()\n",
    "        self.conv = nn.Conv2d(channel_size, num_classes, kernel_size=1, padding=0)\n",
    "        self.pool = nn.MaxPool2d(spatial_size)\n",
    "\n",
    "    def forward(self, x):\n",
    "        x = self.conv(x)\n",
    "        x = torch.flatten(self.pool(x), start_dim=1)\n",
    "        return x\n",
    "\n",
    "\n",
    "model = SimpleCNNClassifier().cuda()\n",
    "print('Parameter count:', sum(p.numel() for p in model.parameters() if p.requires_grad))\n",
    "criterion = nn.CrossEntropyLoss()\n",
    "optimizer = optim.Adam(model.parameters(), lr=0.001)"
   ]
  },
  {
   "cell_type": "code",
   "execution_count": null,
   "metadata": {},
   "outputs": [],
   "source": [
    "tp = TrainPlotPlotlyExperimental()"
   ]
  },
  {
   "cell_type": "code",
   "execution_count": null,
   "metadata": {},
   "outputs": [],
   "source": [
    "for epoch in tqdm(range(20)):\n",
    "    model.train()\n",
    "    accuracy = 0\n",
    "    for batch in train_loader:\n",
    "        optimizer.zero_grad()\n",
    "        x = batch[\"mid_block\"].cuda()\n",
    "        y = batch[\"label\"].cuda()\n",
    "        y_pred = model(x)\n",
    "        loss = criterion(y_pred, y)\n",
    "        accuracy += (y_pred.argmax(dim=1) == y).float().mean()\n",
    "        loss.backward()\n",
    "        optimizer.step()\n",
    "    accuracy /= len(train_loader)\n",
    "    test_accuracy = 0\n",
    "    model.eval()\n",
    "    for batch in test_loader:\n",
    "        x = batch[\"mid_block\"].cuda()\n",
    "        y = batch[\"label\"].cuda()\n",
    "        y_pred = model(x)\n",
    "        test_accuracy += (y_pred.argmax(dim=1) == y).float().mean()\n",
    "    test_accuracy /= len(test_loader)\n",
    "    tp(accuracy = accuracy.item(), test_accuracy = test_accuracy.item())\n",
    "    print(f\"Epoch {epoch}: accuracy {accuracy.item():.2%}, test accuracy {test_accuracy.item():.2%}\")"
   ]
  },
  {
   "cell_type": "code",
   "execution_count": null,
   "metadata": {},
   "outputs": [],
   "source": []
  }
 ],
 "metadata": {
  "kernelspec": {
   "display_name": "py311",
   "language": "python",
   "name": "python3"
  },
  "language_info": {
   "codemirror_mode": {
    "name": "ipython",
    "version": 3
   },
   "file_extension": ".py",
   "mimetype": "text/x-python",
   "name": "python",
   "nbconvert_exporter": "python",
   "pygments_lexer": "ipython3",
   "version": "3.11.6"
  }
 },
 "nbformat": 4,
 "nbformat_minor": 2
}
