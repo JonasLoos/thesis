{
 "cells": [
  {
   "cell_type": "markdown",
   "metadata": {},
   "source": [
    "# Visualize the h-space pixels norms with the highest/lowest values"
   ]
  },
  {
   "cell_type": "code",
   "execution_count": null,
   "metadata": {},
   "outputs": [],
   "source": [
    "import numpy as np\n",
    "import matplotlib.pyplot as plt\n",
    "from sdhelper import SD\n",
    "import datasets\n",
    "from tqdm.notebook import tqdm, trange"
   ]
  },
  {
   "cell_type": "code",
   "execution_count": null,
   "metadata": {},
   "outputs": [],
   "source": [
    "# load model\n",
    "sd = SD('SDXL-Turbo')\n",
    "sd.pipeline.set_progress_bar_config(disable=True)\n",
    "labels = datasets.load_dataset('imagenet-1k')['train'].features['label'].names"
   ]
  },
  {
   "cell_type": "code",
   "execution_count": null,
   "metadata": {},
   "outputs": [],
   "source": [
    "# config\n",
    "p_norm = 2\n",
    "n = 100\n",
    "\n",
    "# initialize lists\n",
    "norms_list = []\n",
    "norm_indices_list = []\n",
    "images_list = []\n",
    "prompts = []\n",
    "\n",
    "# calculate norms\n",
    "for i in trange(n):\n",
    "    random_label = np.random.choice(labels)\n",
    "    result = sd(random_label, steps=2, extract_positions=['mid_block'])\n",
    "    representations = result.representations['mid_block']\n",
    "    norms = representations[-1].norm(p=p_norm, dim=0).detach().cpu().numpy()\n",
    "    norms_sort_indices = norms.flatten().argsort().argsort().reshape(norms.shape)\n",
    "    norms_list.append(norms)\n",
    "    norm_indices_list.append(norms_sort_indices)\n",
    "    images_list.append(result.result_image)\n",
    "    prompts.append(random_label)\n",
    "\n",
    "# calculate averages\n",
    "avg_norms = np.mean(norms_list, axis=0)\n",
    "avg_norm_indices = np.mean(norm_indices_list, axis=0)"
   ]
  },
  {
   "cell_type": "code",
   "execution_count": null,
   "metadata": {},
   "outputs": [],
   "source": [
    "# grid/image plot of average norms and average norm indices\n",
    "\n",
    "plt.imshow(avg_norms)\n",
    "plt.title(f'Mean L{p_norm} ({n} samples, {sd.model_name})')\n",
    "plt.axis('off')\n",
    "plt.colorbar()\n",
    "plt.show()\n",
    "plt.imshow(avg_norm_indices)\n",
    "plt.title(f'Mean L{p_norm} index ({n} samples, {sd.model_name})')\n",
    "plt.axis('off')\n",
    "plt.colorbar()\n",
    "plt.show()"
   ]
  },
  {
   "cell_type": "code",
   "execution_count": null,
   "metadata": {},
   "outputs": [],
   "source": [
    "# barplot of the top 10 average norms\n",
    "\n",
    "idx = avg_norm_indices.flatten().argsort()[-10:][::-1]\n",
    "plt.bar(np.arange(10), avg_norms.flatten()[idx], tick_label=np.array([f'({i},{j})' for i in range(16) for j in range(16)])[idx])\n",
    "plt.title(f'Top 10 L{p_norm} ({n} samples, {sd.model_name})')\n",
    "plt.show()"
   ]
  },
  {
   "cell_type": "code",
   "execution_count": null,
   "metadata": {},
   "outputs": [],
   "source": [
    "# Plot the image patches corresponding to the top and bottom 10 average norms\n",
    "\n",
    "n = int(len(norms_list[0].flatten())**.5)  # number of h-space pixels per row/column (assuming square image)\n",
    "m = 512 // n  # size of each image patch corresponding to a single h-space pixel\n",
    "\n",
    "for i in range(10):\n",
    "    idx_bot = norm_indices_list[i].flatten().argsort()[:10]\n",
    "    idx_top = norm_indices_list[i].flatten().argsort()[-10:][::-1]\n",
    "    img = np.array(images_list[i])\n",
    "    plt.figure(figsize=(18, 5))\n",
    "    plt.suptitle(f'Patches with highest (top) and lowest (bottom) h-space norm for prompt \"{prompts[i]}\" ({sd.model_name})')\n",
    "    for num1, ij in enumerate(idx_top):\n",
    "        i = ij // n\n",
    "        j = ij % n\n",
    "        patch = img[i*m:i*m+m, j*m:j*m+m,:]\n",
    "        plt.subplot(2, 10, num1+1)\n",
    "        plt.imshow(patch)\n",
    "        plt.title(f'({i},{j})')\n",
    "        plt.axis('off')\n",
    "    for num2, ij in enumerate(idx_bot):\n",
    "        i = ij // n\n",
    "        j = ij % n\n",
    "        patch = img[i*m:i*m+m, j*m:j*m+m,:]\n",
    "        plt.subplot(2, 10, num1+num2+2)\n",
    "        plt.imshow(patch)\n",
    "        plt.title(f'({i},{j})')\n",
    "        plt.axis('off')\n",
    "\n",
    "    plt.tight_layout()\n",
    "    plt.show()"
   ]
  }
 ],
 "metadata": {
  "kernelspec": {
   "display_name": "py311",
   "language": "python",
   "name": "python3"
  },
  "language_info": {
   "codemirror_mode": {
    "name": "ipython",
    "version": 3
   },
   "file_extension": ".py",
   "mimetype": "text/x-python",
   "name": "python",
   "nbconvert_exporter": "python",
   "pygments_lexer": "ipython3",
   "version": "3.11.6"
  }
 },
 "nbformat": 4,
 "nbformat_minor": 2
}
