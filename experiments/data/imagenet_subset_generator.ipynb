{
 "cells": [
  {
   "cell_type": "code",
   "execution_count": 54,
   "metadata": {},
   "outputs": [],
   "source": [
    "from datasets import load_dataset, Dataset, Image, ClassLabel\n",
    "from tqdm.autonotebook import tqdm\n",
    "import matplotlib.pyplot as plt\n"
   ]
  },
  {
   "cell_type": "code",
   "execution_count": null,
   "metadata": {},
   "outputs": [],
   "source": [
    "data = load_dataset('imagenet-1k')"
   ]
  },
  {
   "cell_type": "code",
   "execution_count": null,
   "metadata": {},
   "outputs": [],
   "source": [
    "data['train'].features"
   ]
  },
  {
   "cell_type": "code",
   "execution_count": null,
   "metadata": {},
   "outputs": [],
   "source": [
    "all_labels = data['train'].features['label'].names\n",
    "desired_labels = [235, 242, 282, 717, 980]\n",
    "count_per_label = 100\n",
    "\n",
    "images = []\n",
    "labels = []\n",
    "counts = [0 for _ in desired_labels]\n",
    "\n",
    "pbar = tqdm(total=count_per_label * len(desired_labels))\n",
    "for x in tqdm(data['train']):\n",
    "    if x['label'] in desired_labels:\n",
    "        i = desired_labels.index(x['label'])\n",
    "        img = x['image']\n",
    "        if counts[i] >= count_per_label: continue\n",
    "        if min(img.size) < 350: continue  # ignore small images\n",
    "        w, h = img.size\n",
    "        s = min(w, h)\n",
    "        new_img = img.crop((w//2-s//2, h//2-s//2, w//2+s//2, h//2+s//2)).resize((512,512))\n",
    "        images.append(new_img)\n",
    "        labels.append(i)\n",
    "        counts[i] += 1\n",
    "        pbar.update(1)\n",
    "        if sum(counts) == count_per_label * len(desired_labels):\n",
    "            break\n",
    "\n",
    "new_dataset = Dataset.from_dict({'image': images, 'label': labels})\n",
    "new_dataset = new_dataset.cast_column('image', Image(decode=True, id=None))\n",
    "new_dataset = new_dataset.cast_column('label', ClassLabel(names=[all_labels[x] for x in desired_labels]))\n"
   ]
  },
  {
   "cell_type": "code",
   "execution_count": null,
   "metadata": {},
   "outputs": [],
   "source": [
    "new_dataset.save_to_disk('imagenet_subset')"
   ]
  },
  {
   "cell_type": "code",
   "execution_count": null,
   "metadata": {},
   "outputs": [],
   "source": [
    "new_dataset.push_to_hub('JonasLoos/imagenet_subset', private=True)"
   ]
  }
 ],
 "metadata": {
  "kernelspec": {
   "display_name": "base",
   "language": "python",
   "name": "python3"
  },
  "language_info": {
   "codemirror_mode": {
    "name": "ipython",
    "version": 3
   },
   "file_extension": ".py",
   "mimetype": "text/x-python",
   "name": "python",
   "nbconvert_exporter": "python",
   "pygments_lexer": "ipython3",
   "version": "3.11.4"
  }
 },
 "nbformat": 4,
 "nbformat_minor": 2
}
